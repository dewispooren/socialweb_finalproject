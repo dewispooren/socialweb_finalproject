{
 "cells": [
  {
   "cell_type": "markdown",
   "id": "17f6c732",
   "metadata": {},
   "source": [
    "# Final Project"
   ]
  },
  {
   "cell_type": "markdown",
   "id": "49ded1d9",
   "metadata": {},
   "source": [
    "Our idea is to measure whether there is correlation between the popularity of a country during the time World Cup 2022 is held on twitter and the sales from merchendise of that country. "
   ]
  },
  {
   "cell_type": "markdown",
   "id": "bb50aada",
   "metadata": {},
   "source": [
    "### Retrieving and storing Twitter data"
   ]
  },
  {
   "cell_type": "markdown",
   "id": "0a64c14b",
   "metadata": {},
   "source": [
    "First, we will import the Tweepy API, which we can use to retrieve tweets. We created an app which let us create keys and tokens. "
   ]
  },
  {
   "cell_type": "code",
   "execution_count": 12,
   "id": "233efdc3",
   "metadata": {},
   "outputs": [],
   "source": [
    "import tweepy\n",
    "\n",
    "CONSUMER_KEY = 'GAwaUDnN1TOjhb830Z96bOiNS'\n",
    "CONSUMER_SECRET = 'Yyqst9NDX8U7iaCCyWQ1JdQ27FU9RoQXQJKCQl6M7WzrIiYc7E'\n",
    "OAUTH_TOKEN = '1364492577957965825-FeM77E1DgijgzOm08Tt7EzGwYuotEa'\n",
    "OAUTH_TOKEN_SECRET = '66N00O85na9KPdS6UU8iXzpE7eVokFgFA6pt1idI1Txbt'\n",
    "bearer_token = 'AAAAAAAAAAAAAAAAAAAAAK8ojAEAAAAAIZA72KVbwvWMNIo23dF1l7Zry%2BI%3D0W5vM70hjQiYO6pmUg4naYme501nhySYvrDbnEEIWeyGOL3hDC'\n",
    "\n",
    "client = tweepy.Client(bearer_token)\n",
    "\n",
    "auth = tweepy.OAuthHandler(CONSUMER_KEY, CONSUMER_SECRET)\n",
    "auth.set_access_token(OAUTH_TOKEN, OAUTH_TOKEN_SECRET)\n",
    "\n",
    "api = tweepy.API(auth, wait_on_rate_limit=True)"
   ]
  },
  {
   "cell_type": "markdown",
   "id": "dad5a59a",
   "metadata": {},
   "source": [
    "Then we retrieve tweets which contain the hashtag WorldCup. We do not want to have retweets in our dataset, so we use 'is:retweet' to prevent this. To make sure we can maintain access to our tweets, we save them in a textfile. Therefore we can skip the next cell and instead retrieve the tweets from the file we created."
   ]
  },
  {
   "cell_type": "code",
   "execution_count": 92,
   "id": "df7532c4",
   "metadata": {},
   "outputs": [],
   "source": [
    "import json \n",
    "\n",
    "#query = '#WorldCup, -is:retweet'\n",
    "\n",
    "#tweets = tweepy.Paginator(client.search_recent_tweets, query=query, max_results=100).flatten(limit=100000)\n",
    "\n",
    "#list_of_tweets = []\n",
    "#for tweet in tweets:\n",
    "#    list_of_tweets.append(tweet.text)\n",
    "    \n",
    "#with open('tweets_worldcup.txt', 'w') as file:\n",
    "#        file.write(json.dumps(all_tweets, indent=4))"
   ]
  },
  {
   "cell_type": "code",
   "execution_count": 100,
   "id": "e232f78b",
   "metadata": {},
   "outputs": [
    {
     "name": "stdout",
     "output_type": "stream",
     "text": [
      "['STAR MAN SAKA‼\\n\\n#WorldCup #England #Iran #Saka https://t.co/2tTe7C4YXa', '@CryptoSurfsUp @stripe @QatarGrow meme token supporting the WorldCup vibes with dashboard beating join now \\n\\n🟢 0% tax BUY\\n🟢 CMC/CG AVE\\n🟢 Experienced team \\n🟢 SAFU \\n\\nhttps://t.co/WexLh1nMxa\\n\\nhttps://t.co/DcigpKCtSS\\n#qatargrow #worldcup #fifa22 https://t.co/eO5jXLteYQ', '#قطر  #كاس_العالم  #سعوديه  #السعودية  #الأخضر  #الأرجنتين🇦🇷  #saudi  #saudiarabia  #worldcup  #football \\n\\n#قطر  #كاس_العالم  #سعوديه  #السعودية  #الأخضر  #الأرجنتين🇦🇷  #saudi  #saudiarabia  #worldcup  #football  ##startanonlinesidehustle2020 https://t.co/hc4W4KsnlX', \"✅Bet £5 on World Cup\\n✅GET £20 in FREE bets to use on anything\\n\\nCLAIM HERE https://t.co/VHi21J8pDX\\nT&amp;C's Apply, New Customers, Play Safe #Ad 18+ #WorldCup https://t.co/eHIlhPofsi\", '@gilabola_ina GAS LIVE STREAMING BOLA NOBAR DENMARK VS TUNISIA\\n\\nhttps://t.co/RHKa9nEPPw\\n\\n #WorldCup #PialaDunia2022 #PialaDunia2022live #WorldCup2022 #WorldcupQatar2022 #Argentina #SaudiArabia #ArgentinaVsSaudiArabia #Denmark #Tunisia #denmarkvstunisia #DenmarkOpen2022']\n"
     ]
    }
   ],
   "source": [
    "with open('tweets_worldcup.txt', encoding='utf-8') as file:  \n",
    "    twitter_data = json.load(file)\n",
    "print(twitter_data[:5])"
   ]
  },
  {
   "cell_type": "markdown",
   "id": "0231196a",
   "metadata": {},
   "source": [
    "### Cleaning Twitter data"
   ]
  },
  {
   "cell_type": "code",
   "execution_count": null,
   "id": "85e6f7fb",
   "metadata": {},
   "outputs": [],
   "source": []
  }
 ],
 "metadata": {
  "kernelspec": {
   "display_name": "Python 3 (ipykernel)",
   "language": "python",
   "name": "python3"
  },
  "language_info": {
   "codemirror_mode": {
    "name": "ipython",
    "version": 3
   },
   "file_extension": ".py",
   "mimetype": "text/x-python",
   "name": "python",
   "nbconvert_exporter": "python",
   "pygments_lexer": "ipython3",
   "version": "3.9.12"
  }
 },
 "nbformat": 4,
 "nbformat_minor": 5
}
