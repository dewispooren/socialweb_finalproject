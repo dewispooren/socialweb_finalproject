{
 "cells": [
  {
   "cell_type": "markdown",
   "id": "17f6c732",
   "metadata": {},
   "source": [
    "# Final Project"
   ]
  },
  {
   "cell_type": "markdown",
   "id": "49ded1d9",
   "metadata": {},
   "source": [
    "Our idea is find out what the Public opinion is on Twitter on the overturning of Roe v. Wade in large city’s in the US  and to investigate whether it corresponds with the laws in that state."
   ]
  },
  {
   "cell_type": "markdown",
   "id": "7cd3c369",
   "metadata": {},
   "source": [
    "### Retrieving and storing Twitter data"
   ]
  },
  {
   "cell_type": "markdown",
   "id": "0a64c14b",
   "metadata": {},
   "source": [
    "First, we will import the Tweepy API, which we can use to retrieve tweets. We applied for Academic Research access, so we could retrieve more t to search for tweets around the time Roe V Wade overturned and to check the location of the tweet."
   ]
  },
  {
   "cell_type": "code",
   "execution_count": 2,
   "id": "233efdc3",
   "metadata": {},
   "outputs": [],
   "source": [
    "import tweepy\n",
    "import pandas as pd\n",
    "\n",
    "CONSUMER_KEY = 'pttmAvuj8z26khmI29Iy6Yvkt'\n",
    "CONSUMER_SECRET = 'AxWg9dcVVFX1K9TrLUiecXBqpSZn4lu1qEJvIlAoWRRUDd9F9x'\n",
    "OAUTH_TOKEN = '1364492577957965825-3Curg3S5QShUpIa3YcF7VpHJTGzSkT'\n",
    "OAUTH_TOKEN_SECRET = 'md1dtliBClGRem1MDUpLMoCm4GtKXbkMsx54sZAeDpRNU'\n",
    "bearer_token = 'AAAAAAAAAAAAAAAAAAAAAN29jwEAAAAA83MuicQ7VEXm9VY%2F68ZZ%2BGVht9I%3DAkULEZI8WPV44znUF6pVf0D8MHazsz2xh8jsq2I5UH9PCPxds7'\n",
    "\n",
    "client = tweepy.Client(bearer_token)\n",
    "\n",
    "auth = tweepy.OAuthHandler(CONSUMER_KEY, CONSUMER_SECRET)\n",
    "auth.set_access_token(OAUTH_TOKEN, OAUTH_TOKEN_SECRET)\n",
    "\n",
    "api = tweepy.API(auth, wait_on_rate_limit=True)"
   ]
  },
  {
   "cell_type": "markdown",
   "id": "2a7b85fa",
   "metadata": {},
   "source": [
    "We created a function to add new lines to files. We will create two files, one containing the tweets and the second containing the location."
   ]
  },
  {
   "cell_type": "code",
   "execution_count": 3,
   "id": "6f6e06a9",
   "metadata": {},
   "outputs": [],
   "source": [
    "def append_new_line(file_name, text_to_append):\n",
    "    with open(file_name, \"a+\") as file_object:\n",
    "        file_object.seek(0)\n",
    "        data = file_object.read(100)\n",
    "        if len(data) > 0:\n",
    "            file_object.write(\"\\n\")\n",
    "        file_object.write(text_to_append)"
   ]
  },
  {
   "cell_type": "markdown",
   "id": "0e19711e",
   "metadata": {},
   "source": [
    "Here we specify the query, we want to find tweets containing the hashtag #RoeVwade. Furthermore we specify that the tweet is not a retweet and the country where the tweet has been posted is in the US. The timeframe we collect tweets is 5 days before Roe V. Wade overturned and five days after. Since there is a limit of tweets you can collect, we store the tweets and locations immeditately in a file. We included a sleep time to make sure we would not receive a too many request error. \n",
    "\n",
    "We can skip this code if we collected all tweets and locations in the files"
   ]
  },
  {
   "cell_type": "code",
   "execution_count": 4,
   "id": "2baa7a7b",
   "metadata": {},
   "outputs": [],
   "source": [
    "#import time\n",
    "#query = '#RoeVWade -is:retweet place_country:US'\n",
    "\n",
    "#start_time = '2022-06-19T00:00:00Z'\n",
    "#end_time = '2022-06-29T00:00:00Z'\n",
    "\n",
    "#limit is 100\n",
    "#for i in range(1500):\n",
    "    #max_result=100\n",
    "\n",
    "    #tweets = client.search_all_tweets(query=query, tweet_fields=['context_annotations', 'created_at', 'geo'],\n",
    "    #                                  place_fields=['place_type', 'geo'], expansions='geo.place_id', \n",
    "    #                                  start_time=start_time, end_time=end_time, max_results=max_result)\n",
    "\n",
    "    # Get list of places from includes object\n",
    "    #places = {p[\"id\"]: p for p in tweets.includes['places']}\n",
    "\n",
    "    #for tweet in tweets.data:\n",
    "        #text = tweet.text\n",
    "        #if places[tweet.geo['place_id']]:\n",
    "            #place = places[tweet.geo['place_id']]\n",
    "            #place = place.full_name\n",
    "        #text_to_append = (text + ': ' + place)\n",
    "        #append_new_line('tweets.txt', text)\n",
    "        #append_new_line('locations.txt', place)\n",
    "    #time.sleep(2)"
   ]
  },
  {
   "cell_type": "markdown",
   "id": "213869ef",
   "metadata": {},
   "source": [
    "Here we merge the two files into one dataframe consisting of a column of tweets and a column with locations."
   ]
  },
  {
   "cell_type": "code",
   "execution_count": 5,
   "id": "c566c009",
   "metadata": {},
   "outputs": [
    {
     "name": "stdout",
     "output_type": "stream",
     "text": [
      "150000\n"
     ]
    },
    {
     "data": {
      "text/html": [
       "<div>\n",
       "<style scoped>\n",
       "    .dataframe tbody tr th:only-of-type {\n",
       "        vertical-align: middle;\n",
       "    }\n",
       "\n",
       "    .dataframe tbody tr th {\n",
       "        vertical-align: top;\n",
       "    }\n",
       "\n",
       "    .dataframe thead th {\n",
       "        text-align: right;\n",
       "    }\n",
       "</style>\n",
       "<table border=\"1\" class=\"dataframe\">\n",
       "  <thead>\n",
       "    <tr style=\"text-align: right;\">\n",
       "      <th></th>\n",
       "      <th>Tweet</th>\n",
       "      <th>Location</th>\n",
       "    </tr>\n",
       "  </thead>\n",
       "  <tbody>\n",
       "    <tr>\n",
       "      <th>0</th>\n",
       "      <td>Democratic senators need to shut up and come u...</td>\n",
       "      <td>Wisconsin, USA</td>\n",
       "    </tr>\n",
       "    <tr>\n",
       "      <th>1</th>\n",
       "      <td>Overturning #RoeVWade is a public health crisi...</td>\n",
       "      <td>Cleveland, OH</td>\n",
       "    </tr>\n",
       "    <tr>\n",
       "      <th>2</th>\n",
       "      <td>SIGN NOW -&amp;gt; Demand Congress stand up immedi...</td>\n",
       "      <td>Delaware, USA</td>\n",
       "    </tr>\n",
       "    <tr>\n",
       "      <th>3</th>\n",
       "      <td>#RoeVWade https://t.co/VYMtMZVuHH</td>\n",
       "      <td>Evendale, OH</td>\n",
       "    </tr>\n",
       "    <tr>\n",
       "      <th>4</th>\n",
       "      <td>This days it all. #RoeVWade https://t.co/JvMFK...</td>\n",
       "      <td>Lea Hill, WA</td>\n",
       "    </tr>\n",
       "  </tbody>\n",
       "</table>\n",
       "</div>"
      ],
      "text/plain": [
       "                                               Tweet        Location\n",
       "0  Democratic senators need to shut up and come u...  Wisconsin, USA\n",
       "1  Overturning #RoeVWade is a public health crisi...   Cleveland, OH\n",
       "2  SIGN NOW -&gt; Demand Congress stand up immedi...   Delaware, USA\n",
       "3                  #RoeVWade https://t.co/VYMtMZVuHH    Evendale, OH\n",
       "4  This days it all. #RoeVWade https://t.co/JvMFK...    Lea Hill, WA"
      ]
     },
     "metadata": {},
     "output_type": "display_data"
    }
   ],
   "source": [
    "df1 = pd.read_csv('tweets.txt', sep='\\t', header=None, names=['Tweet'])\n",
    "df2 = pd.read_csv('locations.txt', sep='\\t', header=None, names=['Location'])\n",
    "\n",
    "\n",
    "df = pd.concat([df1, df2], axis=1, join='inner')\n",
    "print(len(df))\n",
    "display(df.head(5))\n"
   ]
  },
  {
   "cell_type": "markdown",
   "id": "1659e8b8",
   "metadata": {},
   "source": [
    "### Clean Location"
   ]
  },
  {
   "cell_type": "markdown",
   "id": "a5af28cd",
   "metadata": {},
   "source": [
    "We retrieve the location from the tweets metadata, however, it is not always in the form we want. Overall the form is 'city', 'state abbreviation'. Lets start with splitting the location values into two columns. \n",
    "\n",
    "We focus on the second column, containing the state abbreviation. When looking at the unique values from that column below, we see that some values do not have the state abbreviation, but instead USA or None. Before continuing with our project we would like to clean this. In the end we want one column with only the state abbrevation."
   ]
  },
  {
   "cell_type": "code",
   "execution_count": 6,
   "id": "5141d690",
   "metadata": {},
   "outputs": [],
   "source": [
    "df[['First','Last']] = df.Location.str.split(\",\",expand=True,)\n",
    "df['Last'] = df['Last'].str.strip()"
   ]
  },
  {
   "cell_type": "code",
   "execution_count": 7,
   "id": "34c125a5",
   "metadata": {},
   "outputs": [
    {
     "name": "stdout",
     "output_type": "stream",
     "text": [
      "['USA' 'OH' 'WA' 'MO' 'MN' 'GA' 'NY' 'CO' 'NV' 'MS' 'MI' None 'IN' 'LA'\n",
      " 'TX' 'OR' 'DC' 'CA' 'NE' 'IA' 'SC' 'PA' 'MA' 'Philadelphia' 'NC' 'TN'\n",
      " 'FL' 'Puerto Rico' 'HI' 'OK' 'AL' 'NJ']\n"
     ]
    }
   ],
   "source": [
    "print(df.Last.unique())"
   ]
  },
  {
   "cell_type": "markdown",
   "id": "c32874e0",
   "metadata": {},
   "source": [
    "We replace Philadelphia with the state it belongs to and we remove Puerto Rico."
   ]
  },
  {
   "cell_type": "code",
   "execution_count": 8,
   "id": "ae5a06fe",
   "metadata": {},
   "outputs": [],
   "source": [
    "import numpy as np\n",
    "\n",
    "#Puerto Rico is part of the USA, but for simplicity we only use the states. \n",
    "df.drop(df.loc[df['Last']=='Puerto Rico'].index, inplace=True)\n",
    "\n",
    "#We change philadelphia into the state it belongs to\n",
    "df.loc[df[\"Last\"] == 'Philadelphia', \"Last\"] = 'PA'"
   ]
  },
  {
   "cell_type": "markdown",
   "id": "304ea30f",
   "metadata": {},
   "source": [
    "Some rows contain the value USA instead of the state abbreviation. Lets see what is in the first column when this happens. Below we see it happens for wisconsin, delaware, new york, colorado, kansas, florida, indiana and maine. These are all states, so we will loop through the rows and replace USA with the correct state abbreviation."
   ]
  },
  {
   "cell_type": "code",
   "execution_count": 9,
   "id": "30d39740",
   "metadata": {},
   "outputs": [
    {
     "data": {
      "text/plain": [
       "array(['Wisconsin', 'Delaware', 'New York', 'Colorado', 'Kansas',\n",
       "       'Florida', 'Indiana', 'Maine'], dtype=object)"
      ]
     },
     "execution_count": 9,
     "metadata": {},
     "output_type": "execute_result"
    }
   ],
   "source": [
    "df2=df.loc[df['Last'] == 'USA', 'First']\n",
    "df2.unique()"
   ]
  },
  {
   "cell_type": "code",
   "execution_count": 10,
   "id": "d0ccaee9",
   "metadata": {},
   "outputs": [
    {
     "data": {
      "text/html": [
       "<div>\n",
       "<style scoped>\n",
       "    .dataframe tbody tr th:only-of-type {\n",
       "        vertical-align: middle;\n",
       "    }\n",
       "\n",
       "    .dataframe tbody tr th {\n",
       "        vertical-align: top;\n",
       "    }\n",
       "\n",
       "    .dataframe thead th {\n",
       "        text-align: right;\n",
       "    }\n",
       "</style>\n",
       "<table border=\"1\" class=\"dataframe\">\n",
       "  <thead>\n",
       "    <tr style=\"text-align: right;\">\n",
       "      <th></th>\n",
       "      <th>Tweet</th>\n",
       "      <th>Location</th>\n",
       "      <th>First</th>\n",
       "      <th>Last</th>\n",
       "    </tr>\n",
       "  </thead>\n",
       "  <tbody>\n",
       "    <tr>\n",
       "      <th>0</th>\n",
       "      <td>Democratic senators need to shut up and come u...</td>\n",
       "      <td>Wisconsin, USA</td>\n",
       "      <td>Wisconsin</td>\n",
       "      <td>WI</td>\n",
       "    </tr>\n",
       "    <tr>\n",
       "      <th>1</th>\n",
       "      <td>Overturning #RoeVWade is a public health crisi...</td>\n",
       "      <td>Cleveland, OH</td>\n",
       "      <td>Cleveland</td>\n",
       "      <td>OH</td>\n",
       "    </tr>\n",
       "    <tr>\n",
       "      <th>2</th>\n",
       "      <td>SIGN NOW -&amp;gt; Demand Congress stand up immedi...</td>\n",
       "      <td>Delaware, USA</td>\n",
       "      <td>Delaware</td>\n",
       "      <td>DE</td>\n",
       "    </tr>\n",
       "    <tr>\n",
       "      <th>3</th>\n",
       "      <td>#RoeVWade https://t.co/VYMtMZVuHH</td>\n",
       "      <td>Evendale, OH</td>\n",
       "      <td>Evendale</td>\n",
       "      <td>OH</td>\n",
       "    </tr>\n",
       "    <tr>\n",
       "      <th>4</th>\n",
       "      <td>This days it all. #RoeVWade https://t.co/JvMFK...</td>\n",
       "      <td>Lea Hill, WA</td>\n",
       "      <td>Lea Hill</td>\n",
       "      <td>WA</td>\n",
       "    </tr>\n",
       "  </tbody>\n",
       "</table>\n",
       "</div>"
      ],
      "text/plain": [
       "                                               Tweet        Location  \\\n",
       "0  Democratic senators need to shut up and come u...  Wisconsin, USA   \n",
       "1  Overturning #RoeVWade is a public health crisi...   Cleveland, OH   \n",
       "2  SIGN NOW -&gt; Demand Congress stand up immedi...   Delaware, USA   \n",
       "3                  #RoeVWade https://t.co/VYMtMZVuHH    Evendale, OH   \n",
       "4  This days it all. #RoeVWade https://t.co/JvMFK...    Lea Hill, WA   \n",
       "\n",
       "       First Last  \n",
       "0  Wisconsin   WI  \n",
       "1  Cleveland   OH  \n",
       "2   Delaware   DE  \n",
       "3   Evendale   OH  \n",
       "4   Lea Hill   WA  "
      ]
     },
     "execution_count": 10,
     "metadata": {},
     "output_type": "execute_result"
    }
   ],
   "source": [
    "state_to_abbrev = {\n",
    "    \"Wisconsin\": \"WI\",\n",
    "    \"Delaware\": \"DE\",\n",
    "    \"New York\": \"NY\",\n",
    "    \"Colorado\": \"CO\",\n",
    "    \"Kansas\": \"KS\",\n",
    "    \"Florida\": \"FL\",\n",
    "    \"Indiana\": \"IN\",\n",
    "    \"Maine\": \"ME\"}\n",
    "\n",
    "\n",
    "for i, row in df.iterrows():\n",
    "    if row.Last == 'USA':\n",
    "        df.at[i, 'Last'] = state_to_abbrev[row.First]\n",
    "\n",
    "df.head(5)"
   ]
  },
  {
   "cell_type": "markdown",
   "id": "0740d6ab",
   "metadata": {},
   "source": [
    "Now we focus on the None column, lets check what is in the first column when this happens. Below we see it happens for specific places, and the fast food place McDonald's."
   ]
  },
  {
   "cell_type": "code",
   "execution_count": 11,
   "id": "15edd8eb",
   "metadata": {},
   "outputs": [
    {
     "data": {
      "text/plain": [
       "array(['Downtown Springfield', 'Washington Square Park',\n",
       "       'Fountains of Bellagio', \"McDonald's\"], dtype=object)"
      ]
     },
     "execution_count": 11,
     "metadata": {},
     "output_type": "execute_result"
    }
   ],
   "source": [
    "df2=df.loc[df['Last'].isna(), 'First']\n",
    "df2.unique()"
   ]
  },
  {
   "cell_type": "code",
   "execution_count": 12,
   "id": "cc6fba05",
   "metadata": {
    "scrolled": false
   },
   "outputs": [],
   "source": [
    "clean_dict = {\n",
    "    \"Downtown Springfield\": \"MO\",\n",
    "    \"Washington Square Park\": \"NY\",\n",
    "    \"Fountains of Bellagio\": \"NV\"}\n",
    "\n",
    "for i, row in df.iterrows():\n",
    "    value = row['Last']\n",
    "    if pd.isnull(value) and row.First != \"McDonald's\":\n",
    "        df.at[i, 'Last'] = clean_dict[row.First]\n",
    "    if pd.isnull(value) and row.First == \"McDonald's\":\n",
    "        df.drop(i, inplace=True)\n"
   ]
  },
  {
   "cell_type": "markdown",
   "id": "f7bba640",
   "metadata": {},
   "source": [
    "Lets see how many rows we have left. Wow a lot of the tweets were located in Mcdonalds. I wonder why the Mcdonalds is stored in the metadata instead of the actual location."
   ]
  },
  {
   "cell_type": "code",
   "execution_count": 13,
   "id": "805cdb62",
   "metadata": {},
   "outputs": [
    {
     "name": "stdout",
     "output_type": "stream",
     "text": [
      "146940\n"
     ]
    }
   ],
   "source": [
    "print(len(df))"
   ]
  },
  {
   "cell_type": "code",
   "execution_count": 14,
   "id": "4327849d",
   "metadata": {},
   "outputs": [
    {
     "data": {
      "text/html": [
       "<div>\n",
       "<style scoped>\n",
       "    .dataframe tbody tr th:only-of-type {\n",
       "        vertical-align: middle;\n",
       "    }\n",
       "\n",
       "    .dataframe tbody tr th {\n",
       "        vertical-align: top;\n",
       "    }\n",
       "\n",
       "    .dataframe thead th {\n",
       "        text-align: right;\n",
       "    }\n",
       "</style>\n",
       "<table border=\"1\" class=\"dataframe\">\n",
       "  <thead>\n",
       "    <tr style=\"text-align: right;\">\n",
       "      <th></th>\n",
       "      <th>Tweet</th>\n",
       "      <th>Location</th>\n",
       "    </tr>\n",
       "  </thead>\n",
       "  <tbody>\n",
       "    <tr>\n",
       "      <th>0</th>\n",
       "      <td>Democratic senators need to shut up and come u...</td>\n",
       "      <td>WI</td>\n",
       "    </tr>\n",
       "    <tr>\n",
       "      <th>1</th>\n",
       "      <td>Overturning #RoeVWade is a public health crisi...</td>\n",
       "      <td>OH</td>\n",
       "    </tr>\n",
       "    <tr>\n",
       "      <th>2</th>\n",
       "      <td>SIGN NOW -&amp;gt; Demand Congress stand up immedi...</td>\n",
       "      <td>DE</td>\n",
       "    </tr>\n",
       "    <tr>\n",
       "      <th>3</th>\n",
       "      <td>#RoeVWade https://t.co/VYMtMZVuHH</td>\n",
       "      <td>OH</td>\n",
       "    </tr>\n",
       "    <tr>\n",
       "      <th>4</th>\n",
       "      <td>This days it all. #RoeVWade https://t.co/JvMFK...</td>\n",
       "      <td>WA</td>\n",
       "    </tr>\n",
       "  </tbody>\n",
       "</table>\n",
       "</div>"
      ],
      "text/plain": [
       "                                               Tweet Location\n",
       "0  Democratic senators need to shut up and come u...       WI\n",
       "1  Overturning #RoeVWade is a public health crisi...       OH\n",
       "2  SIGN NOW -&gt; Demand Congress stand up immedi...       DE\n",
       "3                  #RoeVWade https://t.co/VYMtMZVuHH       OH\n",
       "4  This days it all. #RoeVWade https://t.co/JvMFK...       WA"
      ]
     },
     "execution_count": 14,
     "metadata": {},
     "output_type": "execute_result"
    }
   ],
   "source": [
    "final_df = df[['Tweet', 'Last']].copy()\n",
    "final_df.rename(columns={'Last':'Location'}, inplace=True)\n",
    "\n",
    "final_df.head(5)"
   ]
  },
  {
   "cell_type": "markdown",
   "id": "92054f17",
   "metadata": {},
   "source": [
    "# TO DO"
   ]
  },
  {
   "cell_type": "markdown",
   "id": "c3ea2865",
   "metadata": {},
   "source": [
    "- i think it is interesting to investigate the spread of the location of the tweets, thus how many tweets per state. I stored the state as the abbreviation, but we could also store it as the whole name if that is easier, idk. Maybe make a nice graph. Something like this (https://www.geo-social.com/blogs/Jonathan_poster_2022.pdf) here they use colors to represent each state in a map, we could also do this for the spread of the tweets (and later also for the sentiment)\n",
    "\n",
    "- below we have some code for cleaning the twitter data and making the wordcloud, i did not test this yet with the new dataframe, so maybe some things need to be changed. And it would be interesting to compare some of the states (maybe the ones with the most tweets) and see if the wordclouds look a like\n",
    "\n",
    "- after cleaning the tweets we could start measuring the sentiment of the tweets per state. "
   ]
  },
  {
   "cell_type": "markdown",
   "id": "2fe9bd04",
   "metadata": {},
   "source": [
    "### Investigate spread of the tweets"
   ]
  },
  {
   "cell_type": "markdown",
   "id": "97988283",
   "metadata": {},
   "source": [
    "### Cleaning Twitter data"
   ]
  },
  {
   "cell_type": "markdown",
   "id": "c146bfc6",
   "metadata": {},
   "source": [
    "To clean the twitter data we perform multiple steps. We remove links from the tweets, we remove punctuation, tokenize the tweet and remove stopwords."
   ]
  },
  {
   "cell_type": "code",
   "execution_count": 15,
   "id": "5b7c6c25",
   "metadata": {},
   "outputs": [],
   "source": [
    "import string\n",
    "import nltk\n",
    "stopword = nltk.corpus.stopwords.words('english')\n",
    "\n",
    "def remove_link(tweet):\n",
    "    tweet = re.sub(r\"http\\S+\", \"\", tweet)\n",
    "    return tweet\n",
    "\n",
    "def remove_punct(tweet):\n",
    "    tweet  = \"\".join([char for char in tweet if char not in string.punctuation])\n",
    "    tweet = re.sub('[0-9]+', '', tweet)\n",
    "    return tweet\n",
    "\n",
    "def tokenization(tweet):\n",
    "    tweet = re.split('\\W+', tweet)\n",
    "    return tweet\n",
    "\n",
    "def remove_stopwords(tweet):\n",
    "    tweet = [word for word in tweet if word not in stopword]\n",
    "    return tweet"
   ]
  },
  {
   "cell_type": "code",
   "execution_count": 16,
   "id": "882ca253",
   "metadata": {},
   "outputs": [
    {
     "data": {
      "text/plain": [
       "[['tweet']]"
      ]
     },
     "execution_count": 16,
     "metadata": {},
     "output_type": "execute_result"
    }
   ],
   "source": [
    "import re\n",
    "cleaned_tweets = []\n",
    "for tweet in final_df[:5]:\n",
    "    tweet = remove_stopwords(tokenization(remove_punct(remove_link(tweet.lower()))))\n",
    "    tweet = list(filter(None, tweet))\n",
    "    cleaned_tweets.append(tweet)\n",
    "\n",
    "cleaned_tweets[:1]"
   ]
  },
  {
   "cell_type": "markdown",
   "id": "cbdf4edb",
   "metadata": {},
   "source": [
    "### Dataframe with the cleaned tweets"
   ]
  },
  {
   "cell_type": "code",
   "execution_count": 17,
   "id": "c605195a",
   "metadata": {},
   "outputs": [
    {
     "data": {
      "text/html": [
       "<div>\n",
       "<style scoped>\n",
       "    .dataframe tbody tr th:only-of-type {\n",
       "        vertical-align: middle;\n",
       "    }\n",
       "\n",
       "    .dataframe tbody tr th {\n",
       "        vertical-align: top;\n",
       "    }\n",
       "\n",
       "    .dataframe thead th {\n",
       "        text-align: right;\n",
       "    }\n",
       "</style>\n",
       "<table border=\"1\" class=\"dataframe\">\n",
       "  <thead>\n",
       "    <tr style=\"text-align: right;\">\n",
       "      <th></th>\n",
       "      <th>Tweet</th>\n",
       "      <th>Location</th>\n",
       "      <th>Clean_Tweet</th>\n",
       "    </tr>\n",
       "  </thead>\n",
       "  <tbody>\n",
       "    <tr>\n",
       "      <th>0</th>\n",
       "      <td>Democratic senators need to shut up and come u...</td>\n",
       "      <td>WI</td>\n",
       "      <td>democratic senators need shut come realistic s...</td>\n",
       "    </tr>\n",
       "    <tr>\n",
       "      <th>1</th>\n",
       "      <td>Overturning #RoeVWade is a public health crisi...</td>\n",
       "      <td>OH</td>\n",
       "      <td>overturning roevwade public health crisis clev...</td>\n",
       "    </tr>\n",
       "    <tr>\n",
       "      <th>2</th>\n",
       "      <td>SIGN NOW -&amp;gt; Demand Congress stand up immedi...</td>\n",
       "      <td>DE</td>\n",
       "      <td>sign gt demand congress stand immediately prot...</td>\n",
       "    </tr>\n",
       "    <tr>\n",
       "      <th>3</th>\n",
       "      <td>#RoeVWade https://t.co/VYMtMZVuHH</td>\n",
       "      <td>OH</td>\n",
       "      <td>roevwade</td>\n",
       "    </tr>\n",
       "    <tr>\n",
       "      <th>4</th>\n",
       "      <td>This days it all. #RoeVWade https://t.co/JvMFK...</td>\n",
       "      <td>WA</td>\n",
       "      <td>days roevwade</td>\n",
       "    </tr>\n",
       "    <tr>\n",
       "      <th>5</th>\n",
       "      <td>A brilliant composer AND strategic thinker. @H...</td>\n",
       "      <td>NY</td>\n",
       "      <td>brilliant composer strategic thinker hanszimme...</td>\n",
       "    </tr>\n",
       "    <tr>\n",
       "      <th>6</th>\n",
       "      <td>#RoeVsWade #RoeVWade #TrumpCoupAttempt #TrumpI...</td>\n",
       "      <td>MO</td>\n",
       "      <td>roevswade roevwade trumpcoupattempt trumpisgui...</td>\n",
       "    </tr>\n",
       "    <tr>\n",
       "      <th>7</th>\n",
       "      <td>The AG continues to allow protesters to threat...</td>\n",
       "      <td>MN</td>\n",
       "      <td>ag continues allow protesters threaten justice...</td>\n",
       "    </tr>\n",
       "    <tr>\n",
       "      <th>8</th>\n",
       "      <td>Mischa's Letting The Girls Loose @NYCPride ❤️🧡...</td>\n",
       "      <td>GA</td>\n",
       "      <td>mischas letting girls loose nycpride</td>\n",
       "    </tr>\n",
       "    <tr>\n",
       "      <th>9</th>\n",
       "      <td>#freethenipples #Pride2022 #PrideMonth #NYCPri...</td>\n",
       "      <td>NY</td>\n",
       "      <td>freethenipples pride pridemonth nycpride stone...</td>\n",
       "    </tr>\n",
       "  </tbody>\n",
       "</table>\n",
       "</div>"
      ],
      "text/plain": [
       "                                               Tweet Location  \\\n",
       "0  Democratic senators need to shut up and come u...       WI   \n",
       "1  Overturning #RoeVWade is a public health crisi...       OH   \n",
       "2  SIGN NOW -&gt; Demand Congress stand up immedi...       DE   \n",
       "3                  #RoeVWade https://t.co/VYMtMZVuHH       OH   \n",
       "4  This days it all. #RoeVWade https://t.co/JvMFK...       WA   \n",
       "5  A brilliant composer AND strategic thinker. @H...       NY   \n",
       "6  #RoeVsWade #RoeVWade #TrumpCoupAttempt #TrumpI...       MO   \n",
       "7  The AG continues to allow protesters to threat...       MN   \n",
       "8  Mischa's Letting The Girls Loose @NYCPride ❤️🧡...       GA   \n",
       "9  #freethenipples #Pride2022 #PrideMonth #NYCPri...       NY   \n",
       "\n",
       "                                         Clean_Tweet  \n",
       "0  democratic senators need shut come realistic s...  \n",
       "1  overturning roevwade public health crisis clev...  \n",
       "2  sign gt demand congress stand immediately prot...  \n",
       "3                                          roevwade   \n",
       "4                                     days roevwade   \n",
       "5  brilliant composer strategic thinker hanszimme...  \n",
       "6  roevswade roevwade trumpcoupattempt trumpisgui...  \n",
       "7  ag continues allow protesters threaten justice...  \n",
       "8              mischas letting girls loose nycpride   \n",
       "9  freethenipples pride pridemonth nycpride stone...  "
      ]
     },
     "metadata": {},
     "output_type": "display_data"
    }
   ],
   "source": [
    "# It is a bit unclear if its better to keep the whole sentence or apply tokenization etc. for sentiment analysis. \n",
    "cleaned_df = final_df\n",
    "cleaned_df['Clean_Tweet'] = cleaned_df['Tweet'].apply(lambda x: remove_stopwords(tokenization(remove_punct(remove_link(x.lower())))))\n",
    "cleaned_df['Clean_Tweet'] = cleaned_df['Clean_Tweet'].apply(lambda x: ' '.join(x))\n",
    "display(cleaned_df.head(10))"
   ]
  },
  {
   "cell_type": "code",
   "execution_count": 18,
   "id": "386834c9",
   "metadata": {},
   "outputs": [
    {
     "data": {
      "text/html": [
       "<div>\n",
       "<style scoped>\n",
       "    .dataframe tbody tr th:only-of-type {\n",
       "        vertical-align: middle;\n",
       "    }\n",
       "\n",
       "    .dataframe tbody tr th {\n",
       "        vertical-align: top;\n",
       "    }\n",
       "\n",
       "    .dataframe thead th {\n",
       "        text-align: right;\n",
       "    }\n",
       "</style>\n",
       "<table border=\"1\" class=\"dataframe\">\n",
       "  <thead>\n",
       "    <tr style=\"text-align: right;\">\n",
       "      <th></th>\n",
       "      <th>Tweet</th>\n",
       "      <th>Location</th>\n",
       "      <th>Clean_Tweet</th>\n",
       "      <th>Sentiment</th>\n",
       "    </tr>\n",
       "  </thead>\n",
       "  <tbody>\n",
       "    <tr>\n",
       "      <th>0</th>\n",
       "      <td>Democratic senators need to shut up and come u...</td>\n",
       "      <td>WI</td>\n",
       "      <td>democratic senators need shut come realistic s...</td>\n",
       "      <td>-0.5975</td>\n",
       "    </tr>\n",
       "    <tr>\n",
       "      <th>1</th>\n",
       "      <td>Overturning #RoeVWade is a public health crisi...</td>\n",
       "      <td>OH</td>\n",
       "      <td>overturning roevwade public health crisis clev...</td>\n",
       "      <td>-0.2732</td>\n",
       "    </tr>\n",
       "    <tr>\n",
       "      <th>2</th>\n",
       "      <td>SIGN NOW -&amp;gt; Demand Congress stand up immedi...</td>\n",
       "      <td>DE</td>\n",
       "      <td>sign gt demand congress stand immediately prot...</td>\n",
       "      <td>0.7506</td>\n",
       "    </tr>\n",
       "    <tr>\n",
       "      <th>3</th>\n",
       "      <td>#RoeVWade https://t.co/VYMtMZVuHH</td>\n",
       "      <td>OH</td>\n",
       "      <td>roevwade</td>\n",
       "      <td>0.0000</td>\n",
       "    </tr>\n",
       "    <tr>\n",
       "      <th>4</th>\n",
       "      <td>This days it all. #RoeVWade https://t.co/JvMFK...</td>\n",
       "      <td>WA</td>\n",
       "      <td>days roevwade</td>\n",
       "      <td>0.0000</td>\n",
       "    </tr>\n",
       "    <tr>\n",
       "      <th>5</th>\n",
       "      <td>A brilliant composer AND strategic thinker. @H...</td>\n",
       "      <td>NY</td>\n",
       "      <td>brilliant composer strategic thinker hanszimme...</td>\n",
       "      <td>0.8020</td>\n",
       "    </tr>\n",
       "    <tr>\n",
       "      <th>6</th>\n",
       "      <td>#RoeVsWade #RoeVWade #TrumpCoupAttempt #TrumpI...</td>\n",
       "      <td>MO</td>\n",
       "      <td>roevswade roevwade trumpcoupattempt trumpisgui...</td>\n",
       "      <td>0.0000</td>\n",
       "    </tr>\n",
       "    <tr>\n",
       "      <th>7</th>\n",
       "      <td>The AG continues to allow protesters to threat...</td>\n",
       "      <td>MN</td>\n",
       "      <td>ag continues allow protesters threaten justice...</td>\n",
       "      <td>-0.7096</td>\n",
       "    </tr>\n",
       "    <tr>\n",
       "      <th>8</th>\n",
       "      <td>Mischa's Letting The Girls Loose @NYCPride ❤️🧡...</td>\n",
       "      <td>GA</td>\n",
       "      <td>mischas letting girls loose nycpride</td>\n",
       "      <td>-0.3182</td>\n",
       "    </tr>\n",
       "    <tr>\n",
       "      <th>9</th>\n",
       "      <td>#freethenipples #Pride2022 #PrideMonth #NYCPri...</td>\n",
       "      <td>NY</td>\n",
       "      <td>freethenipples pride pridemonth nycpride stone...</td>\n",
       "      <td>0.3400</td>\n",
       "    </tr>\n",
       "  </tbody>\n",
       "</table>\n",
       "</div>"
      ],
      "text/plain": [
       "                                               Tweet Location  \\\n",
       "0  Democratic senators need to shut up and come u...       WI   \n",
       "1  Overturning #RoeVWade is a public health crisi...       OH   \n",
       "2  SIGN NOW -&gt; Demand Congress stand up immedi...       DE   \n",
       "3                  #RoeVWade https://t.co/VYMtMZVuHH       OH   \n",
       "4  This days it all. #RoeVWade https://t.co/JvMFK...       WA   \n",
       "5  A brilliant composer AND strategic thinker. @H...       NY   \n",
       "6  #RoeVsWade #RoeVWade #TrumpCoupAttempt #TrumpI...       MO   \n",
       "7  The AG continues to allow protesters to threat...       MN   \n",
       "8  Mischa's Letting The Girls Loose @NYCPride ❤️🧡...       GA   \n",
       "9  #freethenipples #Pride2022 #PrideMonth #NYCPri...       NY   \n",
       "\n",
       "                                         Clean_Tweet  Sentiment  \n",
       "0  democratic senators need shut come realistic s...    -0.5975  \n",
       "1  overturning roevwade public health crisis clev...    -0.2732  \n",
       "2  sign gt demand congress stand immediately prot...     0.7506  \n",
       "3                                          roevwade      0.0000  \n",
       "4                                     days roevwade      0.0000  \n",
       "5  brilliant composer strategic thinker hanszimme...     0.8020  \n",
       "6  roevswade roevwade trumpcoupattempt trumpisgui...     0.0000  \n",
       "7  ag continues allow protesters threaten justice...    -0.7096  \n",
       "8              mischas letting girls loose nycpride     -0.3182  \n",
       "9  freethenipples pride pridemonth nycpride stone...     0.3400  "
      ]
     },
     "metadata": {},
     "output_type": "display_data"
    }
   ],
   "source": [
    "import nltk \n",
    "from nltk.sentiment import SentimentIntensityAnalyzer\n",
    "sia = SentimentIntensityAnalyzer()\n",
    "cleaned_df['Sentiment'] = cleaned_df['Clean_Tweet'].apply(lambda x: sia.polarity_scores(x)['compound'])\n",
    "\n",
    "display(cleaned_df.head(10))"
   ]
  },
  {
   "cell_type": "code",
   "execution_count": 19,
   "id": "f31c373b",
   "metadata": {},
   "outputs": [],
   "source": [
    "#cleaned_df.to_csv('cleaned_sentiment_data.csv')"
   ]
  },
  {
   "cell_type": "markdown",
   "id": "c0b4517d",
   "metadata": {},
   "source": [
    "### Average sentiment per state "
   ]
  },
  {
   "cell_type": "code",
   "execution_count": 20,
   "id": "38ca046a",
   "metadata": {},
   "outputs": [
    {
     "data": {
      "text/html": [
       "<div>\n",
       "<style scoped>\n",
       "    .dataframe tbody tr th:only-of-type {\n",
       "        vertical-align: middle;\n",
       "    }\n",
       "\n",
       "    .dataframe tbody tr th {\n",
       "        vertical-align: top;\n",
       "    }\n",
       "\n",
       "    .dataframe thead th {\n",
       "        text-align: right;\n",
       "    }\n",
       "</style>\n",
       "<table border=\"1\" class=\"dataframe\">\n",
       "  <thead>\n",
       "    <tr style=\"text-align: right;\">\n",
       "      <th></th>\n",
       "      <th>Sentiment</th>\n",
       "    </tr>\n",
       "    <tr>\n",
       "      <th>Location</th>\n",
       "      <th></th>\n",
       "    </tr>\n",
       "  </thead>\n",
       "  <tbody>\n",
       "    <tr>\n",
       "      <th>AL</th>\n",
       "      <td>0.040287</td>\n",
       "    </tr>\n",
       "    <tr>\n",
       "      <th>CA</th>\n",
       "      <td>0.000659</td>\n",
       "    </tr>\n",
       "    <tr>\n",
       "      <th>CO</th>\n",
       "      <td>0.029931</td>\n",
       "    </tr>\n",
       "    <tr>\n",
       "      <th>DC</th>\n",
       "      <td>0.009140</td>\n",
       "    </tr>\n",
       "    <tr>\n",
       "      <th>DE</th>\n",
       "      <td>0.041024</td>\n",
       "    </tr>\n",
       "    <tr>\n",
       "      <th>FL</th>\n",
       "      <td>0.006310</td>\n",
       "    </tr>\n",
       "    <tr>\n",
       "      <th>GA</th>\n",
       "      <td>0.024746</td>\n",
       "    </tr>\n",
       "    <tr>\n",
       "      <th>HI</th>\n",
       "      <td>-0.022005</td>\n",
       "    </tr>\n",
       "    <tr>\n",
       "      <th>IA</th>\n",
       "      <td>0.040261</td>\n",
       "    </tr>\n",
       "    <tr>\n",
       "      <th>IN</th>\n",
       "      <td>0.019519</td>\n",
       "    </tr>\n",
       "    <tr>\n",
       "      <th>KS</th>\n",
       "      <td>-0.021991</td>\n",
       "    </tr>\n",
       "    <tr>\n",
       "      <th>LA</th>\n",
       "      <td>0.019366</td>\n",
       "    </tr>\n",
       "    <tr>\n",
       "      <th>MA</th>\n",
       "      <td>0.040274</td>\n",
       "    </tr>\n",
       "    <tr>\n",
       "      <th>ME</th>\n",
       "      <td>0.040287</td>\n",
       "    </tr>\n",
       "    <tr>\n",
       "      <th>MI</th>\n",
       "      <td>0.040365</td>\n",
       "    </tr>\n",
       "    <tr>\n",
       "      <th>MN</th>\n",
       "      <td>-0.022039</td>\n",
       "    </tr>\n",
       "    <tr>\n",
       "      <th>MO</th>\n",
       "      <td>0.019499</td>\n",
       "    </tr>\n",
       "    <tr>\n",
       "      <th>MS</th>\n",
       "      <td>0.008899</td>\n",
       "    </tr>\n",
       "    <tr>\n",
       "      <th>NC</th>\n",
       "      <td>0.040287</td>\n",
       "    </tr>\n",
       "    <tr>\n",
       "      <th>NE</th>\n",
       "      <td>0.040724</td>\n",
       "    </tr>\n",
       "    <tr>\n",
       "      <th>NJ</th>\n",
       "      <td>0.040287</td>\n",
       "    </tr>\n",
       "    <tr>\n",
       "      <th>NV</th>\n",
       "      <td>-0.001336</td>\n",
       "    </tr>\n",
       "    <tr>\n",
       "      <th>NY</th>\n",
       "      <td>-0.007979</td>\n",
       "    </tr>\n",
       "    <tr>\n",
       "      <th>OH</th>\n",
       "      <td>-0.006578</td>\n",
       "    </tr>\n",
       "    <tr>\n",
       "      <th>OK</th>\n",
       "      <td>-0.022005</td>\n",
       "    </tr>\n",
       "    <tr>\n",
       "      <th>OR</th>\n",
       "      <td>-0.021991</td>\n",
       "    </tr>\n",
       "    <tr>\n",
       "      <th>PA</th>\n",
       "      <td>0.009135</td>\n",
       "    </tr>\n",
       "    <tr>\n",
       "      <th>SC</th>\n",
       "      <td>0.040261</td>\n",
       "    </tr>\n",
       "    <tr>\n",
       "      <th>TN</th>\n",
       "      <td>0.009141</td>\n",
       "    </tr>\n",
       "    <tr>\n",
       "      <th>TX</th>\n",
       "      <td>-0.006431</td>\n",
       "    </tr>\n",
       "    <tr>\n",
       "      <th>WA</th>\n",
       "      <td>0.009135</td>\n",
       "    </tr>\n",
       "    <tr>\n",
       "      <th>WI</th>\n",
       "      <td>0.039409</td>\n",
       "    </tr>\n",
       "  </tbody>\n",
       "</table>\n",
       "</div>"
      ],
      "text/plain": [
       "          Sentiment\n",
       "Location           \n",
       "AL         0.040287\n",
       "CA         0.000659\n",
       "CO         0.029931\n",
       "DC         0.009140\n",
       "DE         0.041024\n",
       "FL         0.006310\n",
       "GA         0.024746\n",
       "HI        -0.022005\n",
       "IA         0.040261\n",
       "IN         0.019519\n",
       "KS        -0.021991\n",
       "LA         0.019366\n",
       "MA         0.040274\n",
       "ME         0.040287\n",
       "MI         0.040365\n",
       "MN        -0.022039\n",
       "MO         0.019499\n",
       "MS         0.008899\n",
       "NC         0.040287\n",
       "NE         0.040724\n",
       "NJ         0.040287\n",
       "NV        -0.001336\n",
       "NY        -0.007979\n",
       "OH        -0.006578\n",
       "OK        -0.022005\n",
       "OR        -0.021991\n",
       "PA         0.009135\n",
       "SC         0.040261\n",
       "TN         0.009141\n",
       "TX        -0.006431\n",
       "WA         0.009135\n",
       "WI         0.039409"
      ]
     },
     "metadata": {},
     "output_type": "display_data"
    }
   ],
   "source": [
    "df2 = cleaned_df\n",
    "data = df2.groupby(['Location'])['Sentiment'].mean()\n",
    "sentiment_per_state = pd.DataFrame(data)\n",
    "\n",
    "display(sentiment_per_state)"
   ]
  },
  {
   "cell_type": "markdown",
   "id": "b09723a1",
   "metadata": {},
   "source": [
    "### Average sentiment per state, excluding the completely neutral tweets "
   ]
  },
  {
   "cell_type": "code",
   "execution_count": 23,
   "id": "c808c143",
   "metadata": {},
   "outputs": [
    {
     "data": {
      "text/html": [
       "<div>\n",
       "<style scoped>\n",
       "    .dataframe tbody tr th:only-of-type {\n",
       "        vertical-align: middle;\n",
       "    }\n",
       "\n",
       "    .dataframe tbody tr th {\n",
       "        vertical-align: top;\n",
       "    }\n",
       "\n",
       "    .dataframe thead th {\n",
       "        text-align: right;\n",
       "    }\n",
       "</style>\n",
       "<table border=\"1\" class=\"dataframe\">\n",
       "  <thead>\n",
       "    <tr style=\"text-align: right;\">\n",
       "      <th></th>\n",
       "      <th>Sentiment</th>\n",
       "    </tr>\n",
       "    <tr>\n",
       "      <th>Location</th>\n",
       "      <th></th>\n",
       "    </tr>\n",
       "  </thead>\n",
       "  <tbody>\n",
       "    <tr>\n",
       "      <th>AL</th>\n",
       "      <td>0.117409</td>\n",
       "    </tr>\n",
       "    <tr>\n",
       "      <th>CA</th>\n",
       "      <td>0.001761</td>\n",
       "    </tr>\n",
       "    <tr>\n",
       "      <th>CO</th>\n",
       "      <td>0.085218</td>\n",
       "    </tr>\n",
       "    <tr>\n",
       "      <th>DC</th>\n",
       "      <td>0.024864</td>\n",
       "    </tr>\n",
       "    <tr>\n",
       "      <th>DE</th>\n",
       "      <td>0.119258</td>\n",
       "    </tr>\n",
       "    <tr>\n",
       "      <th>FL</th>\n",
       "      <td>0.017059</td>\n",
       "    </tr>\n",
       "    <tr>\n",
       "      <th>GA</th>\n",
       "      <td>0.069600</td>\n",
       "    </tr>\n",
       "    <tr>\n",
       "      <th>HI</th>\n",
       "      <td>-0.056112</td>\n",
       "    </tr>\n",
       "    <tr>\n",
       "      <th>IA</th>\n",
       "      <td>0.117409</td>\n",
       "    </tr>\n",
       "    <tr>\n",
       "      <th>IN</th>\n",
       "      <td>0.054310</td>\n",
       "    </tr>\n",
       "    <tr>\n",
       "      <th>KS</th>\n",
       "      <td>-0.056112</td>\n",
       "    </tr>\n",
       "    <tr>\n",
       "      <th>LA</th>\n",
       "      <td>0.053853</td>\n",
       "    </tr>\n",
       "    <tr>\n",
       "      <th>MA</th>\n",
       "      <td>0.117409</td>\n",
       "    </tr>\n",
       "    <tr>\n",
       "      <th>ME</th>\n",
       "      <td>0.117409</td>\n",
       "    </tr>\n",
       "    <tr>\n",
       "      <th>MI</th>\n",
       "      <td>0.117600</td>\n",
       "    </tr>\n",
       "    <tr>\n",
       "      <th>MN</th>\n",
       "      <td>-0.056149</td>\n",
       "    </tr>\n",
       "    <tr>\n",
       "      <th>MO</th>\n",
       "      <td>0.054257</td>\n",
       "    </tr>\n",
       "    <tr>\n",
       "      <th>MS</th>\n",
       "      <td>0.024198</td>\n",
       "    </tr>\n",
       "    <tr>\n",
       "      <th>NC</th>\n",
       "      <td>0.117409</td>\n",
       "    </tr>\n",
       "    <tr>\n",
       "      <th>NE</th>\n",
       "      <td>0.118534</td>\n",
       "    </tr>\n",
       "    <tr>\n",
       "      <th>NJ</th>\n",
       "      <td>0.117409</td>\n",
       "    </tr>\n",
       "    <tr>\n",
       "      <th>NV</th>\n",
       "      <td>-0.003555</td>\n",
       "    </tr>\n",
       "    <tr>\n",
       "      <th>NY</th>\n",
       "      <td>-0.020920</td>\n",
       "    </tr>\n",
       "    <tr>\n",
       "      <th>OH</th>\n",
       "      <td>-0.017312</td>\n",
       "    </tr>\n",
       "    <tr>\n",
       "      <th>OK</th>\n",
       "      <td>-0.056112</td>\n",
       "    </tr>\n",
       "    <tr>\n",
       "      <th>OR</th>\n",
       "      <td>-0.056112</td>\n",
       "    </tr>\n",
       "    <tr>\n",
       "      <th>PA</th>\n",
       "      <td>0.024864</td>\n",
       "    </tr>\n",
       "    <tr>\n",
       "      <th>SC</th>\n",
       "      <td>0.117409</td>\n",
       "    </tr>\n",
       "    <tr>\n",
       "      <th>TN</th>\n",
       "      <td>0.024864</td>\n",
       "    </tr>\n",
       "    <tr>\n",
       "      <th>TX</th>\n",
       "      <td>-0.016930</td>\n",
       "    </tr>\n",
       "    <tr>\n",
       "      <th>WA</th>\n",
       "      <td>0.024864</td>\n",
       "    </tr>\n",
       "    <tr>\n",
       "      <th>WI</th>\n",
       "      <td>0.114563</td>\n",
       "    </tr>\n",
       "  </tbody>\n",
       "</table>\n",
       "</div>"
      ],
      "text/plain": [
       "          Sentiment\n",
       "Location           \n",
       "AL         0.117409\n",
       "CA         0.001761\n",
       "CO         0.085218\n",
       "DC         0.024864\n",
       "DE         0.119258\n",
       "FL         0.017059\n",
       "GA         0.069600\n",
       "HI        -0.056112\n",
       "IA         0.117409\n",
       "IN         0.054310\n",
       "KS        -0.056112\n",
       "LA         0.053853\n",
       "MA         0.117409\n",
       "ME         0.117409\n",
       "MI         0.117600\n",
       "MN        -0.056149\n",
       "MO         0.054257\n",
       "MS         0.024198\n",
       "NC         0.117409\n",
       "NE         0.118534\n",
       "NJ         0.117409\n",
       "NV        -0.003555\n",
       "NY        -0.020920\n",
       "OH        -0.017312\n",
       "OK        -0.056112\n",
       "OR        -0.056112\n",
       "PA         0.024864\n",
       "SC         0.117409\n",
       "TN         0.024864\n",
       "TX        -0.016930\n",
       "WA         0.024864\n",
       "WI         0.114563"
      ]
     },
     "metadata": {},
     "output_type": "display_data"
    }
   ],
   "source": [
    "df3 = cleaned_df\n",
    "df3 = df3[df3.Sentiment != 0]\n",
    "data = df3.groupby(['Location'])['Sentiment'].mean()\n",
    "sentiment_per_state_noneutral = pd.DataFrame(data)\n",
    "display(sentiment_per_state_noneutral)"
   ]
  },
  {
   "cell_type": "code",
   "execution_count": 77,
   "id": "d508ff7a",
   "metadata": {},
   "outputs": [
    {
     "data": {
      "image/png": "[encoded data removed]",
      "text/plain": [
       "<Figure size 1500x1000 with 1 Axes>"
      ]
     },
     "metadata": {},
     "output_type": "display_data"
    }
   ],
   "source": [
    "import matplotlib.pyplot as plt\n",
    "from collections import Counter\n",
    "from wordcloud import WordCloud, STOPWORDS\n",
    "\n",
    "total = Counter()\n",
    "for i in cleaned_tweets[0:]:\n",
    "        total.update(i)\n",
    "        \n",
    "\n",
    "dict(total)\n",
    " \n",
    "wordcloud = WordCloud(width = 800, height = 800, \n",
    "                background_color ='white', \n",
    "                min_font_size = 10).generate_from_frequencies(total)\n",
    "  \n",
    "# plot the WordCloud image\n",
    "plt.figure(figsize = (15, 10), facecolor = None) \n",
    "plt.imshow(wordcloud,interpolation='bilinear') \n",
    "plt.axis(\"off\") \n",
    "plt.tight_layout(pad = 0) \n",
    "  \n",
    "plt.show()"
   ]
  },
  {
   "cell_type": "code",
   "execution_count": null,
   "id": "12e2508c",
   "metadata": {},
   "outputs": [],
   "source": [
    "print(cleaned_tweets)"
   ]
  },
  {
   "cell_type": "code",
   "execution_count": null,
   "id": "3163e6b6",
   "metadata": {},
   "outputs": [],
   "source": []
  }
 ],
 "metadata": {
  "kernelspec": {
   "display_name": "Python 3 (ipykernel)",
   "language": "python",
   "name": "python3"
  },
  "language_info": {
   "codemirror_mode": {
    "name": "ipython",
    "version": 3
   },
   "file_extension": ".py",
   "mimetype": "text/x-python",
   "name": "python",
   "nbconvert_exporter": "python",
   "pygments_lexer": "ipython3",
   "version": "3.7.13"
  }
 },
 "nbformat": 4,
 "nbformat_minor": 5
}
