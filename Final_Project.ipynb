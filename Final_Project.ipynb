{
 "cells": [
  {
   "cell_type": "markdown",
   "id": "17f6c732",
   "metadata": {},
   "source": [
    "# Final Project"
   ]
  },
  {
   "cell_type": "markdown",
   "id": "49ded1d9",
   "metadata": {},
   "source": [
    "Our idea is to measure whether there is correlation between the popularity of a country during the time World Cup 2022 is held on twitter and the sales from merchendise of that country. "
   ]
  },
  {
   "cell_type": "markdown",
   "id": "7cd3c369",
   "metadata": {},
   "source": [
    "### Retrieving and storing Twitter data"
   ]
  },
  {
   "cell_type": "markdown",
   "id": "0a64c14b",
   "metadata": {},
   "source": [
    "First, we will import the Tweepy API, which we can use to retrieve tweets. We created an app which let us create keys and tokens. "
   ]
  },
  {
   "cell_type": "code",
   "execution_count": 2,
   "id": "233efdc3",
   "metadata": {},
   "outputs": [],
   "source": [
    "import tweepy\n",
    "\n",
    "CONSUMER_KEY = 'GAwaUDnN1TOjhb830Z96bOiNS'\n",
    "CONSUMER_SECRET = 'Yyqst9NDX8U7iaCCyWQ1JdQ27FU9RoQXQJKCQl6M7WzrIiYc7E'\n",
    "OAUTH_TOKEN = '1364492577957965825-FeM77E1DgijgzOm08Tt7EzGwYuotEa'\n",
    "OAUTH_TOKEN_SECRET = '66N00O85na9KPdS6UU8iXzpE7eVokFgFA6pt1idI1Txbt'\n",
    "bearer_token = 'AAAAAAAAAAAAAAAAAAAAAK8ojAEAAAAAIZA72KVbwvWMNIo23dF1l7Zry%2BI%3D0W5vM70hjQiYO6pmUg4naYme501nhySYvrDbnEEIWeyGOL3hDC'\n",
    "\n",
    "client = tweepy.Client(bearer_token)\n",
    "\n",
    "auth = tweepy.OAuthHandler(CONSUMER_KEY, CONSUMER_SECRET)\n",
    "auth.set_access_token(OAUTH_TOKEN, OAUTH_TOKEN_SECRET)\n",
    "\n",
    "api = tweepy.API(auth, wait_on_rate_limit=True)"
   ]
  },
  {
   "cell_type": "markdown",
   "id": "2a7b85fa",
   "metadata": {},
   "source": [
    "Then we retrieve tweets which contain the hashtag WorldCup. We do not want to have retweets in our dataset, so we use 'is:retweet' to prevent this. To make sure we can maintain access to our tweets, we save them in a textfile. Therefore we can skip the next cell and instead retrieve the tweets from the file we created."
   ]
  },
  {
   "cell_type": "code",
   "execution_count": 3,
   "id": "df7532c4",
   "metadata": {},
   "outputs": [],
   "source": [
    "import json \n",
    "\n",
    "#query = '#WorldCup, -is:retweet'\n",
    "\n",
    "#tweets = tweepy.Paginator(client.search_recent_tweets, query=query, max_results=100).flatten(limit=100000)\n",
    "\n",
    "#list_of_tweets = []\n",
    "#for tweet in tweets:\n",
    "#    list_of_tweets.append(tweet.text)\n",
    "    \n",
    "#with open('tweets_worldcup.txt', 'w') as file:\n",
    "#        file.write(json.dumps(all_tweets, indent=4))"
   ]
  },
  {
   "cell_type": "code",
   "execution_count": 28,
   "id": "e232f78b",
   "metadata": {},
   "outputs": [
    {
     "name": "stdout",
     "output_type": "stream",
     "text": [
      "['STAR MAN SAKA‼\\n\\n#WorldCup #England #Iran #Saka https://t.co/2tTe7C4YXa', '@CryptoSurfsUp @stripe @QatarGrow meme token supporting the WorldCup vibes with dashboard beating join now \\n\\n🟢 0% tax BUY\\n🟢 CMC/CG AVE\\n🟢 Experienced team \\n🟢 SAFU \\n\\nhttps://t.co/WexLh1nMxa\\n\\nhttps://t.co/DcigpKCtSS\\n#qatargrow #worldcup #fifa22 https://t.co/eO5jXLteYQ', '#قطر  #كاس_العالم  #سعوديه  #السعودية  #الأخضر  #الأرجنتين🇦🇷  #saudi  #saudiarabia  #worldcup  #football \\n\\n#قطر  #كاس_العالم  #سعوديه  #السعودية  #الأخضر  #الأرجنتين🇦🇷  #saudi  #saudiarabia  #worldcup  #football  ##startanonlinesidehustle2020 https://t.co/hc4W4KsnlX', \"✅Bet £5 on World Cup\\n✅GET £20 in FREE bets to use on anything\\n\\nCLAIM HERE https://t.co/VHi21J8pDX\\nT&amp;C's Apply, New Customers, Play Safe #Ad 18+ #WorldCup https://t.co/eHIlhPofsi\", '@gilabola_ina GAS LIVE STREAMING BOLA NOBAR DENMARK VS TUNISIA\\n\\nhttps://t.co/RHKa9nEPPw\\n\\n #WorldCup #PialaDunia2022 #PialaDunia2022live #WorldCup2022 #WorldcupQatar2022 #Argentina #SaudiArabia #ArgentinaVsSaudiArabia #Denmark #Tunisia #denmarkvstunisia #DenmarkOpen2022']\n"
     ]
    }
   ],
   "source": [
    "with open('tweets_worldcup.txt', encoding='utf-8') as file:  \n",
    "    twitter_data = json.load(file)\n",
    "print(twitter_data[:5])"
   ]
  },
  {
   "cell_type": "markdown",
   "id": "213869ef",
   "metadata": {},
   "source": [
    "We collected 100000 tweets containing the hashtag WorldCup "
   ]
  },
  {
   "cell_type": "code",
   "execution_count": 6,
   "id": "034bc41a",
   "metadata": {},
   "outputs": [
    {
     "name": "stdout",
     "output_type": "stream",
     "text": [
      "100000\n"
     ]
    }
   ],
   "source": [
    "print(len(twitter_data))"
   ]
  },
  {
   "cell_type": "markdown",
   "id": "97988283",
   "metadata": {},
   "source": [
    "### Cleaning Twitter data"
   ]
  },
  {
   "cell_type": "markdown",
   "id": "c146bfc6",
   "metadata": {},
   "source": [
    "To clean the twitter data we perform multiple steps. We remove links from the tweets, we remove punctuation, tokenize the tweet and remove stopwords."
   ]
  },
  {
   "cell_type": "code",
   "execution_count": 29,
   "id": "5b7c6c25",
   "metadata": {},
   "outputs": [],
   "source": [
    "import string\n",
    "import nltk\n",
    "stopword = nltk.corpus.stopwords.words('english')\n",
    "\n",
    "def remove_link(tweet):\n",
    "    tweet = re.sub(r\"http\\S+\", \"\", tweet)\n",
    "    return tweet\n",
    "\n",
    "def remove_punct(tweet):\n",
    "    tweet  = \"\".join([char for char in tweet if char not in string.punctuation])\n",
    "    tweet = re.sub('[0-9]+', '', tweet)\n",
    "    return tweet\n",
    "\n",
    "def tokenization(tweet):\n",
    "    tweet = re.split('\\W+', tweet)\n",
    "    return tweet\n",
    "\n",
    "def remove_stopwords(tweet):\n",
    "    tweet = [word for word in tweet if word not in stopword]\n",
    "    return tweet"
   ]
  },
  {
   "cell_type": "code",
   "execution_count": 32,
   "id": "882ca253",
   "metadata": {},
   "outputs": [
    {
     "data": {
      "text/plain": [
       "[['STAR', 'MAN', 'SAKA', 'WorldCup', 'England', 'Iran', 'Saka']]"
      ]
     },
     "execution_count": 32,
     "metadata": {},
     "output_type": "execute_result"
    }
   ],
   "source": [
    "import re\n",
    "cleaned_tweets = []\n",
    "for tweet in twitter_data[:5]:\n",
    "    tweet = remove_stopwords(tokenization(remove_punct(remove_link(tweet))))\n",
    "    tweet = list(filter(None, tweet))\n",
    "    cleaned_tweets.append(tweet)\n",
    "\n",
    "cleaned_tweets[:1]"
   ]
  },
  {
   "cell_type": "markdown",
   "id": "dc59295c",
   "metadata": {},
   "source": [
    "To Do\n",
    "- create a wordcloud\n",
    "- measure percentages of languages used in the tweets"
   ]
  },
  {
   "cell_type": "markdown",
   "id": "14b5b258",
   "metadata": {},
   "source": [
    "### Measuring popularity teams"
   ]
  },
  {
   "cell_type": "markdown",
   "id": "dee1b39a",
   "metadata": {},
   "source": [
    "Our plan for measuring the popularity of teams, will be by collecting a set of keywords per team. For example keywords for the Netherlands could be 'Netherlands', 'Memphis Depay', 'Depay', 'NED', etc. We will count the mentions of these keywords in the tweets containing the hashtag #WorldCup. Furthermore, we will establish the sentiment of the tweet, to figure out whether the mention of the keyword is positive, neutral, or negative. Based on this we will use a weight to calculate the actual popularity of the mention. \n",
    "\n",
    "To create a database of keywords, we would like to use a dataset of all players for each country for the World Cup 2022. Since there is no such dataset yet for 2022 we decided to collect this data ourselves. "
   ]
  },
  {
   "cell_type": "code",
   "execution_count": 52,
   "id": "2b736494",
   "metadata": {},
   "outputs": [
    {
     "data": {
      "text/html": [
       "<div>\n",
       "<style scoped>\n",
       "    .dataframe tbody tr th:only-of-type {\n",
       "        vertical-align: middle;\n",
       "    }\n",
       "\n",
       "    .dataframe tbody tr th {\n",
       "        vertical-align: top;\n",
       "    }\n",
       "\n",
       "    .dataframe thead th {\n",
       "        text-align: right;\n",
       "    }\n",
       "</style>\n",
       "<table border=\"1\" class=\"dataframe\">\n",
       "  <thead>\n",
       "    <tr style=\"text-align: right;\">\n",
       "      <th></th>\n",
       "      <th>Team</th>\n",
       "      <th>Player</th>\n",
       "      <th>abbreviation</th>\n",
       "    </tr>\n",
       "  </thead>\n",
       "  <tbody>\n",
       "    <tr>\n",
       "      <th>0</th>\n",
       "      <td>Ecuador</td>\n",
       "      <td>Hernán Galíndez</td>\n",
       "      <td>ECU</td>\n",
       "    </tr>\n",
       "    <tr>\n",
       "      <th>1</th>\n",
       "      <td>Ecuador</td>\n",
       "      <td>Félix Torres</td>\n",
       "      <td>ECU</td>\n",
       "    </tr>\n",
       "    <tr>\n",
       "      <th>2</th>\n",
       "      <td>Ecuador</td>\n",
       "      <td>Piero Hincapié</td>\n",
       "      <td>ECU</td>\n",
       "    </tr>\n",
       "    <tr>\n",
       "      <th>3</th>\n",
       "      <td>Ecuador</td>\n",
       "      <td>Robert Arboleda</td>\n",
       "      <td>ECU</td>\n",
       "    </tr>\n",
       "    <tr>\n",
       "      <th>4</th>\n",
       "      <td>Ecuador</td>\n",
       "      <td>José Cifuentes</td>\n",
       "      <td>ECU</td>\n",
       "    </tr>\n",
       "  </tbody>\n",
       "</table>\n",
       "</div>"
      ],
      "text/plain": [
       "      Team           Player abbreviation\n",
       "0  Ecuador  Hernán Galíndez          ECU\n",
       "1  Ecuador     Félix Torres          ECU\n",
       "2  Ecuador   Piero Hincapié          ECU\n",
       "3  Ecuador  Robert Arboleda          ECU\n",
       "4  Ecuador   José Cifuentes          ECU"
      ]
     },
     "execution_count": 52,
     "metadata": {},
     "output_type": "execute_result"
    }
   ],
   "source": [
    "import pandas as pd\n",
    "import sqlite3\n",
    "df_team_players = pd.read_excel('db_team_players.xlsx')\n",
    "df_team_players[:5]"
   ]
  },
  {
   "cell_type": "markdown",
   "id": "326c3457",
   "metadata": {},
   "source": [
    "Players are often reffered to their last name, so we make a column with their last names"
   ]
  },
  {
   "cell_type": "code",
   "execution_count": 53,
   "id": "75eb9d8b",
   "metadata": {},
   "outputs": [
    {
     "data": {
      "text/html": [
       "<div>\n",
       "<style scoped>\n",
       "    .dataframe tbody tr th:only-of-type {\n",
       "        vertical-align: middle;\n",
       "    }\n",
       "\n",
       "    .dataframe tbody tr th {\n",
       "        vertical-align: top;\n",
       "    }\n",
       "\n",
       "    .dataframe thead th {\n",
       "        text-align: right;\n",
       "    }\n",
       "</style>\n",
       "<table border=\"1\" class=\"dataframe\">\n",
       "  <thead>\n",
       "    <tr style=\"text-align: right;\">\n",
       "      <th></th>\n",
       "      <th>Team</th>\n",
       "      <th>Player</th>\n",
       "      <th>abbreviation</th>\n",
       "      <th>lastname</th>\n",
       "    </tr>\n",
       "  </thead>\n",
       "  <tbody>\n",
       "    <tr>\n",
       "      <th>0</th>\n",
       "      <td>Ecuador</td>\n",
       "      <td>Hernán Galíndez</td>\n",
       "      <td>ECU</td>\n",
       "      <td>Galíndez</td>\n",
       "    </tr>\n",
       "    <tr>\n",
       "      <th>1</th>\n",
       "      <td>Ecuador</td>\n",
       "      <td>Félix Torres</td>\n",
       "      <td>ECU</td>\n",
       "      <td>Torres</td>\n",
       "    </tr>\n",
       "    <tr>\n",
       "      <th>2</th>\n",
       "      <td>Ecuador</td>\n",
       "      <td>Piero Hincapié</td>\n",
       "      <td>ECU</td>\n",
       "      <td>Hincapié</td>\n",
       "    </tr>\n",
       "    <tr>\n",
       "      <th>3</th>\n",
       "      <td>Ecuador</td>\n",
       "      <td>Robert Arboleda</td>\n",
       "      <td>ECU</td>\n",
       "      <td>Arboleda</td>\n",
       "    </tr>\n",
       "    <tr>\n",
       "      <th>4</th>\n",
       "      <td>Ecuador</td>\n",
       "      <td>José Cifuentes</td>\n",
       "      <td>ECU</td>\n",
       "      <td>Cifuentes</td>\n",
       "    </tr>\n",
       "  </tbody>\n",
       "</table>\n",
       "</div>"
      ],
      "text/plain": [
       "      Team           Player abbreviation   lastname\n",
       "0  Ecuador  Hernán Galíndez          ECU   Galíndez\n",
       "1  Ecuador     Félix Torres          ECU     Torres\n",
       "2  Ecuador   Piero Hincapié          ECU   Hincapié\n",
       "3  Ecuador  Robert Arboleda          ECU   Arboleda\n",
       "4  Ecuador   José Cifuentes          ECU  Cifuentes"
      ]
     },
     "execution_count": 53,
     "metadata": {},
     "output_type": "execute_result"
    }
   ],
   "source": [
    "df_team_players['lastname'] = df_team_players['Player'].str.split().str[-1]\n",
    "df_team_players[:5]"
   ]
  },
  {
   "cell_type": "markdown",
   "id": "c7743c09",
   "metadata": {},
   "source": [
    "From this dataframe, we create a dictionary, where the key is the country and the values are the players, the country and the FIFA country codes."
   ]
  },
  {
   "cell_type": "code",
   "execution_count": 54,
   "id": "5405cc65",
   "metadata": {},
   "outputs": [],
   "source": [
    "teams = df_team_players[\"Team\"].unique()\n",
    "keywords_per_country = []\n",
    "for team in teams:\n",
    "    keywords = []\n",
    "    players = df_team_players.loc[df_team_players['Team'] == team, 'Player'].tolist()\n",
    "    players_lastname = df_team_players.loc[df_team_players['Team'] == team, 'lastname'].tolist()\n",
    "    abbreviation = df_team_players.loc[df_team_players['Team'] == team, 'abbreviation'].unique()\n",
    "    keywords.extend(players)\n",
    "    keywords.extend(players_lastname)\n",
    "    keywords.append(team)\n",
    "    keywords.extend(abbreviation)\n",
    "    keywords_per_country.append(keywords)\n",
    "\n",
    "dic_keywords = dict(zip(teams, keywords_per_country))\n"
   ]
  },
  {
   "cell_type": "code",
   "execution_count": null,
   "id": "12e2508c",
   "metadata": {},
   "outputs": [],
   "source": []
  }
 ],
 "metadata": {
  "kernelspec": {
   "display_name": "Python 3 (ipykernel)",
   "language": "python",
   "name": "python3"
  },
  "language_info": {
   "codemirror_mode": {
    "name": "ipython",
    "version": 3
   },
   "file_extension": ".py",
   "mimetype": "text/x-python",
   "name": "python",
   "nbconvert_exporter": "python",
   "pygments_lexer": "ipython3",
   "version": "3.9.12"
  }
 },
 "nbformat": 4,
 "nbformat_minor": 5
}
