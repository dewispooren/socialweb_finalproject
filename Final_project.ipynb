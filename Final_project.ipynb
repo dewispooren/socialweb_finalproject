{
 "cells": [
  {
   "cell_type": "markdown",
   "id": "17f6c732",
   "metadata": {},
   "source": [
    "# Final Project"
   ]
  },
  {
   "cell_type": "markdown",
   "id": "49ded1d9",
   "metadata": {},
   "source": [
    "Our idea is find out what the Public opinion is on Twitter on the overturning of Roe v. Wade in large city’s in the US  and to investigate whether it corresponds with the laws in that state.\n",
    "\n",
    "This notebook consists of different steps we performed to get to our goal:\n",
    "1. Data Crawling\n",
    "2. Data pre-processing\n",
    "    - cleaning location\n",
    "    - cleaning tweets\n",
    "3. Data exploration\n",
    "    - measure spread of tweets\n",
    "    - wordclouds\n",
    "4. Sentiment analysis\n",
    "5. Results sentiment analysis\n",
    "6. Modelling"
   ]
  },
  {
   "cell_type": "markdown",
   "id": "7cd3c369",
   "metadata": {},
   "source": [
    "# 1. Data crawling (retrieving and storing Twitter data)"
   ]
  },
  {
   "cell_type": "markdown",
   "id": "0a64c14b",
   "metadata": {},
   "source": [
    "First, we will import the Tweepy API, which we can use to retrieve tweets. We applied for Academic Research access, so we could retrieve tweets from a different period than only the tweets from the last seven days. We searched for tweets aroudn the time Roe V Wade overturned."
   ]
  },
  {
   "cell_type": "code",
   "execution_count": 2,
   "id": "233efdc3",
   "metadata": {},
   "outputs": [],
   "source": [
    "import tweepy\n",
    "\n",
    "CONSUMER_KEY = 'pttmAvuj8z26khmI29Iy6Yvkt'\n",
    "CONSUMER_SECRET = 'AxWg9dcVVFX1K9TrLUiecXBqpSZn4lu1qEJvIlAoWRRUDd9F9x'\n",
    "OAUTH_TOKEN = '1364492577957965825-3Curg3S5QShUpIa3YcF7VpHJTGzSkT'\n",
    "OAUTH_TOKEN_SECRET = 'md1dtliBClGRem1MDUpLMoCm4GtKXbkMsx54sZAeDpRNU'\n",
    "bearer_token = 'AAAAAAAAAAAAAAAAAAAAAN29jwEAAAAA83MuicQ7VEXm9VY%2F68ZZ%2BGVht9I%3DAkULEZI8WPV44znUF6pVf0D8MHazsz2xh8jsq2I5UH9PCPxds7'\n",
    "\n",
    "client = tweepy.Client(bearer_token)\n",
    "\n",
    "auth = tweepy.OAuthHandler(CONSUMER_KEY, CONSUMER_SECRET)\n",
    "auth.set_access_token(OAUTH_TOKEN, OAUTH_TOKEN_SECRET)\n",
    "\n",
    "api = tweepy.API(auth, wait_on_rate_limit=True)"
   ]
  },
  {
   "cell_type": "markdown",
   "id": "2a7b85fa",
   "metadata": {},
   "source": [
    "We created a function to add new lines to files. We will create two files, one containing the tweets and the second containing the location."
   ]
  },
  {
   "cell_type": "code",
   "execution_count": 3,
   "id": "6f6e06a9",
   "metadata": {},
   "outputs": [],
   "source": [
    "def append_new_line(file_name, text_to_append):\n",
    "    with open(file_name, \"a+\") as file_object:\n",
    "        file_object.seek(0)\n",
    "        data = file_object.read(100)\n",
    "        if len(data) > 0:\n",
    "            file_object.write(\"\\n\")\n",
    "        file_object.write(text_to_append)"
   ]
  },
  {
   "cell_type": "markdown",
   "id": "0e19711e",
   "metadata": {},
   "source": [
    "Here we specify the query, we want to find tweets containing the hashtag #RoeVwade. Furthermore we specify that the tweet is not a retweet and the country where the tweet has been posted is in the US. The timeframe we collect tweets is 5 days before Roe V. Wade overturned and five days after. Since there is a limit of tweets you can collect, we store the tweets and locations immeditately in a file. We included a sleep time to make sure we would not receive a too many request error. \n",
    "\n",
    "We can skip this code if we collected all tweets and locations in the files"
   ]
  },
  {
   "cell_type": "code",
   "execution_count": 4,
   "id": "2baa7a7b",
   "metadata": {},
   "outputs": [],
   "source": [
    "#import time\n",
    "#query = '#RoeVWade -is:retweet place_country:US'\n",
    "\n",
    "#start_time = '2022-06-19T00:00:00Z'\n",
    "#end_time = '2022-06-29T00:00:00Z'\n",
    "\n",
    "#limit is 100\n",
    "#for i in range(1500):\n",
    "    #max_result=100\n",
    "\n",
    "    #tweets = client.search_all_tweets(query=query, tweet_fields=['context_annotations', 'created_at', 'geo'],\n",
    "    #                                  place_fields=['place_type', 'geo'], expansions='geo.place_id', \n",
    "    #                                  start_time=start_time, end_time=end_time, max_results=max_result)\n",
    "\n",
    "    # Get list of places from includes object\n",
    "    #places = {p[\"id\"]: p for p in tweets.includes['places']}\n",
    "\n",
    "    #for tweet in tweets.data:\n",
    "        #text = tweet.text\n",
    "        #if places[tweet.geo['place_id']]:\n",
    "            #place = places[tweet.geo['place_id']]\n",
    "            #place = place.full_name\n",
    "        #text_to_append = (text + ': ' + place)\n",
    "        #append_new_line('tweets.txt', text)\n",
    "        #append_new_line('locations.txt', place)\n",
    "    #time.sleep(2)"
   ]
  },
  {
   "cell_type": "markdown",
   "id": "213869ef",
   "metadata": {},
   "source": [
    "We collected 150000 tweets containing the hashtag #RoeVWade\n",
    "\n",
    "Here we merge the two files into one dataframe consisting of a column of tweets and a column with locations."
   ]
  },
  {
   "cell_type": "code",
   "execution_count": 5,
   "id": "c566c009",
   "metadata": {},
   "outputs": [
    {
     "name": "stdout",
     "output_type": "stream",
     "text": [
      "150000\n"
     ]
    },
    {
     "data": {
      "text/html": [
       "<div>\n",
       "<style scoped>\n",
       "    .dataframe tbody tr th:only-of-type {\n",
       "        vertical-align: middle;\n",
       "    }\n",
       "\n",
       "    .dataframe tbody tr th {\n",
       "        vertical-align: top;\n",
       "    }\n",
       "\n",
       "    .dataframe thead th {\n",
       "        text-align: right;\n",
       "    }\n",
       "</style>\n",
       "<table border=\"1\" class=\"dataframe\">\n",
       "  <thead>\n",
       "    <tr style=\"text-align: right;\">\n",
       "      <th></th>\n",
       "      <th>Tweet</th>\n",
       "      <th>Location</th>\n",
       "    </tr>\n",
       "  </thead>\n",
       "  <tbody>\n",
       "    <tr>\n",
       "      <th>0</th>\n",
       "      <td>Democratic senators need to shut up and come u...</td>\n",
       "      <td>Wisconsin, USA</td>\n",
       "    </tr>\n",
       "    <tr>\n",
       "      <th>1</th>\n",
       "      <td>Overturning #RoeVWade is a public health crisi...</td>\n",
       "      <td>Cleveland, OH</td>\n",
       "    </tr>\n",
       "    <tr>\n",
       "      <th>2</th>\n",
       "      <td>SIGN NOW -&amp;gt; Demand Congress stand up immedi...</td>\n",
       "      <td>Delaware, USA</td>\n",
       "    </tr>\n",
       "    <tr>\n",
       "      <th>3</th>\n",
       "      <td>#RoeVWade https://t.co/VYMtMZVuHH</td>\n",
       "      <td>Evendale, OH</td>\n",
       "    </tr>\n",
       "    <tr>\n",
       "      <th>4</th>\n",
       "      <td>This days it all. #RoeVWade https://t.co/JvMFK...</td>\n",
       "      <td>Lea Hill, WA</td>\n",
       "    </tr>\n",
       "  </tbody>\n",
       "</table>\n",
       "</div>"
      ],
      "text/plain": [
       "                                               Tweet        Location\n",
       "0  Democratic senators need to shut up and come u...  Wisconsin, USA\n",
       "1  Overturning #RoeVWade is a public health crisi...   Cleveland, OH\n",
       "2  SIGN NOW -&gt; Demand Congress stand up immedi...   Delaware, USA\n",
       "3                  #RoeVWade https://t.co/VYMtMZVuHH    Evendale, OH\n",
       "4  This days it all. #RoeVWade https://t.co/JvMFK...    Lea Hill, WA"
      ]
     },
     "metadata": {},
     "output_type": "display_data"
    }
   ],
   "source": [
    "import pandas as pd\n",
    "\n",
    "df1 = pd.read_csv('tweets.txt', sep='\\t', header=None, names=['Tweet'])\n",
    "df2 = pd.read_csv('locations.txt', sep='\\t', header=None, names=['Location'])\n",
    "\n",
    "\n",
    "df = pd.concat([df1, df2], axis=1, join='inner')\n",
    "print(len(df))\n",
    "display(df.head(5))\n"
   ]
  },
  {
   "cell_type": "markdown",
   "id": "01f58757",
   "metadata": {},
   "source": [
    "# 2. Date Preprocessing\n"
   ]
  },
  {
   "cell_type": "markdown",
   "id": "2024f509",
   "metadata": {},
   "source": [
    "We performed multiple cleaning operations. First we clean the location and create one column containing the state abbreviation. Then we clean the tweet data."
   ]
  },
  {
   "cell_type": "markdown",
   "id": "1659e8b8",
   "metadata": {},
   "source": [
    "### Clean Location"
   ]
  },
  {
   "cell_type": "markdown",
   "id": "a5af28cd",
   "metadata": {},
   "source": [
    "We retrieve the location from the tweets metadata, however, it is not always in the form we want. Overall the form is 'city', 'state abbreviation'. Lets start with splitting the location values into two columns. \n",
    "\n",
    "We focus on the second column, containing the state abbreviation. When looking at the unique values from that column below, we see that some values do not have the state abbreviation, but instead USA or None. Before continuing with our project we would like to clean this. In the end we want one column with only the state abbrevation."
   ]
  },
  {
   "cell_type": "code",
   "execution_count": null,
   "id": "5141d690",
   "metadata": {},
   "outputs": [],
   "source": [
    "df[['First','Last']] = df.Location.str.split(\",\",expand=True,)\n",
    "df['Last'] = df['Last'].str.strip()"
   ]
  },
  {
   "cell_type": "code",
   "execution_count": null,
   "id": "34c125a5",
   "metadata": {},
   "outputs": [],
   "source": [
    "print(df.Last.unique())"
   ]
  },
  {
   "cell_type": "markdown",
   "id": "c32874e0",
   "metadata": {},
   "source": [
    "We replace Philadelphia with the state it belongs to and we remove Puerto Rico."
   ]
  },
  {
   "cell_type": "code",
   "execution_count": null,
   "id": "ae5a06fe",
   "metadata": {},
   "outputs": [],
   "source": [
    "import numpy as np\n",
    "\n",
    "#Puerto Rico is part of the USA, but for simplicity we only use the states. \n",
    "df.drop(df.loc[df['Last']=='Puerto Rico'].index, inplace=True)\n",
    "\n",
    "#We change philadelphia into the state it belongs to\n",
    "df.loc[df[\"Last\"] == 'Philadelphia', \"Last\"] = 'PA'"
   ]
  },
  {
   "cell_type": "markdown",
   "id": "304ea30f",
   "metadata": {},
   "source": [
    "Some rows contain the value USA instead of the state abbreviation. Lets see what is in the first column when this happens. Below we see it happens for wisconsin, delaware, new york, colorado, kansas, florida, indiana and maine. These are all states, so we will loop through the rows and replace USA with the correct state abbreviation."
   ]
  },
  {
   "cell_type": "code",
   "execution_count": null,
   "id": "30d39740",
   "metadata": {},
   "outputs": [],
   "source": [
    "df2=df.loc[df['Last'] == 'USA', 'First']\n",
    "df2.unique()"
   ]
  },
  {
   "cell_type": "code",
   "execution_count": null,
   "id": "d0ccaee9",
   "metadata": {},
   "outputs": [],
   "source": [
    "state_to_abbrev = {\n",
    "    \"Wisconsin\": \"WI\",\n",
    "    \"Delaware\": \"DE\",\n",
    "    \"New York\": \"NY\",\n",
    "    \"Colorado\": \"CO\",\n",
    "    \"Kansas\": \"KS\",\n",
    "    \"Florida\": \"FL\",\n",
    "    \"Indiana\": \"IN\",\n",
    "    \"Maine\": \"ME\"}\n",
    "\n",
    "\n",
    "for i, row in df.iterrows():\n",
    "    if row.Last == 'USA':\n",
    "        df.at[i, 'Last'] = state_to_abbrev[row.First]\n",
    "\n",
    "df.head(5)"
   ]
  },
  {
   "cell_type": "markdown",
   "id": "0740d6ab",
   "metadata": {},
   "source": [
    "Now we focus on the None column, lets check what is in the first column when this happens. Below we see it happens for specific places, and the fast food place McDonald's. We remove the tweets located in McDonald's and we searched for the correct state of the other locations. "
   ]
  },
  {
   "cell_type": "code",
   "execution_count": null,
   "id": "15edd8eb",
   "metadata": {},
   "outputs": [],
   "source": [
    "df2=df.loc[df['Last'].isna(), 'First']\n",
    "df2.unique()"
   ]
  },
  {
   "cell_type": "code",
   "execution_count": null,
   "id": "cc6fba05",
   "metadata": {
    "scrolled": false
   },
   "outputs": [],
   "source": [
    "clean_dict = {\n",
    "    \"Downtown Springfield\": \"MO\",\n",
    "    \"Washington Square Park\": \"NY\",\n",
    "    \"Fountains of Bellagio\": \"NV\"}\n",
    "\n",
    "for i, row in df.iterrows():\n",
    "    value = row['Last']\n",
    "    if pd.isnull(value) and row.First != \"McDonald's\":\n",
    "        df.at[i, 'Last'] = clean_dict[row.First]\n",
    "    if pd.isnull(value) and row.First == \"McDonald's\":\n",
    "        df.drop(i, inplace=True)\n"
   ]
  },
  {
   "cell_type": "markdown",
   "id": "f7bba640",
   "metadata": {},
   "source": [
    "Lets see how many rows we have left. Wow a lot of the tweets were located in Mcdonalds. I wonder why the Mcdonalds is stored in the metadata instead of the actual location."
   ]
  },
  {
   "cell_type": "code",
   "execution_count": null,
   "id": "805cdb62",
   "metadata": {},
   "outputs": [],
   "source": [
    "print(len(df))"
   ]
  },
  {
   "cell_type": "markdown",
   "id": "157e9d23",
   "metadata": {},
   "source": [
    "Below you can see the final dataframe"
   ]
  },
  {
   "cell_type": "code",
   "execution_count": null,
   "id": "4327849d",
   "metadata": {},
   "outputs": [],
   "source": [
    "final_df = df[['Tweet', 'Last']].copy()\n",
    "final_df.rename(columns={'Last':'Location'}, inplace=True)\n",
    "\n",
    "final_df.head(5)"
   ]
  },
  {
   "cell_type": "markdown",
   "id": "12e08aa1",
   "metadata": {},
   "source": [
    "### Cleaning Twitter data"
   ]
  },
  {
   "cell_type": "markdown",
   "id": "83561dca",
   "metadata": {},
   "source": [
    "To clean the twitter data we perform multiple steps. We remove links from the tweets, we remove symbols,  we remove punctuation, tokenize the tweet and remove stopwords."
   ]
  },
  {
   "cell_type": "code",
   "execution_count": null,
   "id": "91dddb47",
   "metadata": {},
   "outputs": [],
   "source": [
    "import string\n",
    "import nltk\n",
    "import re\n",
    "stopword = nltk.corpus.stopwords.words('english')\n",
    "\n",
    "def remove_link(tweet):\n",
    "    tweet = re.sub(r\"http\\S+\", \"\", tweet)\n",
    "    return tweet\n",
    "\n",
    "def remove_punct(tweet):\n",
    "    tweet  = \"\".join([char for char in tweet if char not in string.punctuation])\n",
    "    tweet = re.sub('[0-9]+', '', tweet)\n",
    "    return tweet\n",
    "\n",
    "def tokenization(tweet):\n",
    "    tweet = re.split('\\W+', tweet)\n",
    "    return tweet\n",
    "\n",
    "def remove_stopwords(tweet):\n",
    "    tweet = [word for word in tweet if word not in stopword]\n",
    "    return tweet"
   ]
  },
  {
   "cell_type": "markdown",
   "id": "354b6912",
   "metadata": {},
   "source": [
    "We add a new column clean_tweet, where we performed the cleaning tasks"
   ]
  },
  {
   "cell_type": "code",
   "execution_count": null,
   "id": "8313926f",
   "metadata": {},
   "outputs": [],
   "source": [
    "# It is a bit unclear if its better to keep the whole sentence or apply tokenization etc. for sentiment analysis. \n",
    "cleaned_df = final_df\n",
    "cleaned_df['Clean_Tweet'] = cleaned_df['Tweet'].apply(lambda x: remove_stopwords(tokenization(remove_punct(remove_link(x.lower())))))\n",
    "cleaned_df['Clean_Tweet'] = cleaned_df['Clean_Tweet'].apply(lambda x: ' '.join(x))\n",
    "display(cleaned_df.head(10))"
   ]
  },
  {
   "cell_type": "markdown",
   "id": "95cac616",
   "metadata": {},
   "source": [
    "# 3. Data exploration"
   ]
  },
  {
   "cell_type": "markdown",
   "id": "2fe9bd04",
   "metadata": {},
   "source": [
    "### Investigate spread of the tweets"
   ]
  },
  {
   "cell_type": "markdown",
   "id": "0061debb",
   "metadata": {},
   "source": [
    "We collected 150000 tweets from different states. Below we visualized the count of the tweets per state. First we create a new dataframe with a location column and a count column. We use this dataframe to create the choropleth map from the USA states. Looking at the plot we see that the yellow states tweeted the most about Roe V. Wade. These states are California and Florida. We also see that not every state in the US is represented in our database of tweets. This could be a limitation.  "
   ]
  },
  {
   "cell_type": "code",
   "execution_count": null,
   "id": "12b8ffc9",
   "metadata": {},
   "outputs": [],
   "source": [
    "tweet_count = final_df.groupby(['Location'])['Location'].count().reset_index(\n",
    "    name='Count').sort_values(['Count'], ascending=False)\n",
    "\n",
    "tweet_count.head(5)"
   ]
  },
  {
   "cell_type": "code",
   "execution_count": null,
   "id": "133782e5",
   "metadata": {},
   "outputs": [],
   "source": [
    "#pip install plotly-express\n",
    "\n",
    "import plotly\n",
    "import plotly.express as px\n",
    "\n",
    "location_list = tweet_count[\"Location\"].to_numpy()\n",
    "count_list = tweet_count[\"Count\"].to_numpy()\n",
    "\n",
    "fig = px.choropleth(locations=location_list, locationmode=\"USA-states\", color=count_list, scope=\"usa\",\n",
    "                   labels={'color':'Tweet count'})\n",
    " \n",
    "fig.show()"
   ]
  },
  {
   "cell_type": "markdown",
   "id": "fdc4f69b",
   "metadata": {},
   "source": [
    "### Wordclouds"
   ]
  },
  {
   "cell_type": "markdown",
   "id": "a39a27fa",
   "metadata": {},
   "source": [
    "For the 5 locations with the highest count of tweets we created a worldcloud, to see what topics are mostly talked about. "
   ]
  },
  {
   "cell_type": "code",
   "execution_count": null,
   "id": "a6f9e7e7",
   "metadata": {},
   "outputs": [],
   "source": [
    "import matplotlib.pyplot as plt\n",
    "from collections import Counter\n",
    "from wordcloud import WordCloud, STOPWORDS\n",
    "\n",
    "c = ['CA','FL','NY','MO','CO']\n",
    "\n",
    "for l in c:\n",
    "    \n",
    "    print('\\033[1m'+l+'\\033[0m')\n",
    "    print()\n",
    "\n",
    "    cleaned_tweets = []\n",
    "    for tweet in final_df['Tweet'][final_df['Location'] == l]:\n",
    "        tweet = remove_stopwords(tokenization(remove_punct(remove_link(tweet.lower()))))\n",
    "        tweet = list(filter(None, tweet))\n",
    "        cleaned_tweets.append(tweet)\n",
    "\n",
    "    total = Counter()\n",
    "    for i in cleaned_tweets[0:]:\n",
    "            total.update(i)\n",
    "\n",
    "\n",
    "    dict(total)\n",
    "\n",
    "    wordcloud = WordCloud(width = 800, height = 800, \n",
    "                    background_color ='white', \n",
    "                    min_font_size = 10).generate_from_frequencies(total)\n",
    "\n",
    "    # plot the WordCloud image\n",
    "    plt.figure(figsize = (15, 10), facecolor = None) \n",
    "    plt.imshow(wordcloud,interpolation='bilinear') \n",
    "    plt.axis(\"off\") \n",
    "    plt.tight_layout(pad = 0) \n",
    "\n",
    "    plt.show()"
   ]
  },
  {
   "cell_type": "markdown",
   "id": "8152c670",
   "metadata": {},
   "source": [
    "# 4. Sentiment analysis"
   ]
  },
  {
   "cell_type": "markdown",
   "id": "4c5801dc",
   "metadata": {},
   "source": [
    "We import the sentiment analyzer from nltk to measure the sentiment per tweet. To see if the tweet is more negative, neutral or positive towards the hashtag. "
   ]
  },
  {
   "cell_type": "code",
   "execution_count": null,
   "id": "0a600389",
   "metadata": {},
   "outputs": [],
   "source": [
    "import nltk \n",
    "from nltk.sentiment import SentimentIntensityAnalyzer\n",
    "sia = SentimentIntensityAnalyzer()\n",
    "cleaned_df['Sentiment'] = cleaned_df['Clean_Tweet'].apply(lambda x: sia.polarity_scores(x)['compound'])\n",
    "\n",
    "display(cleaned_df.head(10))"
   ]
  },
  {
   "cell_type": "markdown",
   "id": "96c2464c",
   "metadata": {},
   "source": [
    "### Average sentiment per state "
   ]
  },
  {
   "cell_type": "markdown",
   "id": "1f6703e5",
   "metadata": {},
   "source": [
    "For all states in our data we compute the mean sentiment of all the tweets posted in that state. For the average sentiment per state we exclude the tweets with a sentiment score of 0.0. They are completely neutral and can influence the average while they do not say a lot about the opinion on Roe V wade. See the dataframe above and the first tweet with a sentiment score of 0.0 After cleaning the tweet only contains the hashtag, thus there is not much to say about the opinion on Roe V Wade. \n"
   ]
  },
  {
   "cell_type": "code",
   "execution_count": null,
   "id": "03c5f300",
   "metadata": {},
   "outputs": [],
   "source": [
    "#version with neutral tweets\n",
    "df2 = cleaned_df.copy()\n",
    "data = df2.groupby(['Location'])['Sentiment'].mean()\n",
    "sentiment_per_state = pd.DataFrame(data)\n",
    "\n",
    "display(sentiment_per_state.head(5))"
   ]
  },
  {
   "cell_type": "code",
   "execution_count": 19,
   "id": "b90d84b0",
   "metadata": {},
   "outputs": [
    {
     "data": {
      "text/html": [
       "<div>\n",
       "<style scoped>\n",
       "    .dataframe tbody tr th:only-of-type {\n",
       "        vertical-align: middle;\n",
       "    }\n",
       "\n",
       "    .dataframe tbody tr th {\n",
       "        vertical-align: top;\n",
       "    }\n",
       "\n",
       "    .dataframe thead th {\n",
       "        text-align: right;\n",
       "    }\n",
       "</style>\n",
       "<table border=\"1\" class=\"dataframe\">\n",
       "  <thead>\n",
       "    <tr style=\"text-align: right;\">\n",
       "      <th></th>\n",
       "      <th>Location</th>\n",
       "      <th>Sentiment</th>\n",
       "    </tr>\n",
       "  </thead>\n",
       "  <tbody>\n",
       "    <tr>\n",
       "      <th>0</th>\n",
       "      <td>AL</td>\n",
       "      <td>0.117409</td>\n",
       "    </tr>\n",
       "    <tr>\n",
       "      <th>1</th>\n",
       "      <td>CA</td>\n",
       "      <td>0.001761</td>\n",
       "    </tr>\n",
       "    <tr>\n",
       "      <th>2</th>\n",
       "      <td>CO</td>\n",
       "      <td>0.085218</td>\n",
       "    </tr>\n",
       "    <tr>\n",
       "      <th>3</th>\n",
       "      <td>DC</td>\n",
       "      <td>0.024864</td>\n",
       "    </tr>\n",
       "    <tr>\n",
       "      <th>4</th>\n",
       "      <td>DE</td>\n",
       "      <td>0.119258</td>\n",
       "    </tr>\n",
       "  </tbody>\n",
       "</table>\n",
       "</div>"
      ],
      "text/plain": [
       "  Location  Sentiment\n",
       "0       AL   0.117409\n",
       "1       CA   0.001761\n",
       "2       CO   0.085218\n",
       "3       DC   0.024864\n",
       "4       DE   0.119258"
      ]
     },
     "execution_count": 19,
     "metadata": {},
     "output_type": "execute_result"
    }
   ],
   "source": [
    "#version without neutral tweets\n",
    "no_neutral = cleaned_df.copy()\n",
    "no_neutral = no_neutral[no_neutral.Sentiment != 0]\n",
    "\n",
    "sentiment_state = no_neutral.groupby(['Location'])['Sentiment'].mean().reset_index(name='Sentiment')\n",
    "sentiment_state.head(5)"
   ]
  },
  {
   "cell_type": "code",
   "execution_count": 20,
   "id": "594f6b0e",
   "metadata": {},
   "outputs": [
    {
     "data": {
      "application/vnd.plotly.v1+json": {
       "config": {
        "plotlyServerURL": "https://plot.ly"
       },
       "data": [
        {
         "coloraxis": "coloraxis",
         "geo": "geo",
         "hovertemplate": "locations=%{location}<br>Mean Sentiment=%{z}<extra></extra>",
         "locationmode": "USA-states",
         "locations": [
          "AL",
          "CA",
          "CO",
          "DC",
          "DE",
          "FL",
          "GA",
          "HI",
          "IA",
          "IN",
          "KS",
          "LA",
          "MA",
          "ME",
          "MI",
          "MN",
          "MO",
          "MS",
          "NC",
          "NE",
          "NJ",
          "NV",
          "NY",
          "OH",
          "OK",
          "OR",
          "PA",
          "SC",
          "TN",
          "TX",
          "WA",
          "WI"
         ],
         "name": "",
         "type": "choropleth",
         "z": [
          0.11740857142857143,
          0.0017610820244328125,
          0.08521754494730317,
          0.024864000000000004,
          0.11925787476280834,
          0.017059036144578314,
          0.06959977032613689,
          -0.056112499999999996,
          0.11740857142857143,
          0.054310000000000004,
          -0.056112499999999996,
          0.05385293761356754,
          0.11740857142857143,
          0.11740857142857143,
          0.11759961941008563,
          -0.05614850332594235,
          0.05425714718352514,
          0.02419840142095915,
          0.11740857142857143,
          0.11853441064638784,
          0.11740857142857143,
          -0.0035549826187717243,
          -0.020919737342976776,
          -0.017311903738719377,
          -0.056112499999999996,
          -0.056112499999999996,
          0.024864,
          0.11740857142857143,
          0.024864,
          -0.016930322580645155,
          0.024864000000000004,
          0.11456280834914612
         ]
        }
       ],
       "layout": {
        "coloraxis": {
         "colorbar": {
          "title": {
           "text": "Mean Sentiment"
          }
         },
         "colorscale": [
          [
           0,
           "#0d0887"
          ],
          [
           0.1111111111111111,
           "#46039f"
          ],
          [
           0.2222222222222222,
           "#7201a8"
          ],
          [
           0.3333333333333333,
           "#9c179e"
          ],
          [
           0.4444444444444444,
           "#bd3786"
          ],
          [
           0.5555555555555556,
           "#d8576b"
          ],
          [
           0.6666666666666666,
           "#ed7953"
          ],
          [
           0.7777777777777778,
           "#fb9f3a"
          ],
          [
           0.8888888888888888,
           "#fdca26"
          ],
          [
           1,
           "#f0f921"
          ]
         ]
        },
        "geo": {
         "center": {},
         "domain": {
          "x": [
           0,
           1
          ],
          "y": [
           0,
           1
          ]
         },
         "scope": "usa"
        },
        "legend": {
         "tracegroupgap": 0
        },
        "margin": {
         "t": 60
        },
        "template": {
         "data": {
          "bar": [
           {
            "error_x": {
             "color": "#2a3f5f"
            },
            "error_y": {
             "color": "#2a3f5f"
            },
            "marker": {
             "line": {
              "color": "#E5ECF6",
              "width": 0.5
             },
             "pattern": {
              "fillmode": "overlay",
              "size": 10,
              "solidity": 0.2
             }
            },
            "type": "bar"
           }
          ],
          "barpolar": [
           {
            "marker": {
             "line": {
              "color": "#E5ECF6",
              "width": 0.5
             },
             "pattern": {
              "fillmode": "overlay",
              "size": 10,
              "solidity": 0.2
             }
            },
            "type": "barpolar"
           }
          ],
          "carpet": [
           {
            "aaxis": {
             "endlinecolor": "#2a3f5f",
             "gridcolor": "white",
             "linecolor": "white",
             "minorgridcolor": "white",
             "startlinecolor": "#2a3f5f"
            },
            "baxis": {
             "endlinecolor": "#2a3f5f",
             "gridcolor": "white",
             "linecolor": "white",
             "minorgridcolor": "white",
             "startlinecolor": "#2a3f5f"
            },
            "type": "carpet"
           }
          ],
          "choropleth": [
           {
            "colorbar": {
             "outlinewidth": 0,
             "ticks": ""
            },
            "type": "choropleth"
           }
          ],
          "contour": [
           {
            "colorbar": {
             "outlinewidth": 0,
             "ticks": ""
            },
            "colorscale": [
             [
              0,
              "#0d0887"
             ],
             [
              0.1111111111111111,
              "#46039f"
             ],
             [
              0.2222222222222222,
              "#7201a8"
             ],
             [
              0.3333333333333333,
              "#9c179e"
             ],
             [
              0.4444444444444444,
              "#bd3786"
             ],
             [
              0.5555555555555556,
              "#d8576b"
             ],
             [
              0.6666666666666666,
              "#ed7953"
             ],
             [
              0.7777777777777778,
              "#fb9f3a"
             ],
             [
              0.8888888888888888,
              "#fdca26"
             ],
             [
              1,
              "#f0f921"
             ]
            ],
            "type": "contour"
           }
          ],
          "contourcarpet": [
           {
            "colorbar": {
             "outlinewidth": 0,
             "ticks": ""
            },
            "type": "contourcarpet"
           }
          ],
          "heatmap": [
           {
            "colorbar": {
             "outlinewidth": 0,
             "ticks": ""
            },
            "colorscale": [
             [
              0,
              "#0d0887"
             ],
             [
              0.1111111111111111,
              "#46039f"
             ],
             [
              0.2222222222222222,
              "#7201a8"
             ],
             [
              0.3333333333333333,
              "#9c179e"
             ],
             [
              0.4444444444444444,
              "#bd3786"
             ],
             [
              0.5555555555555556,
              "#d8576b"
             ],
             [
              0.6666666666666666,
              "#ed7953"
             ],
             [
              0.7777777777777778,
              "#fb9f3a"
             ],
             [
              0.8888888888888888,
              "#fdca26"
             ],
             [
              1,
              "#f0f921"
             ]
            ],
            "type": "heatmap"
           }
          ],
          "heatmapgl": [
           {
            "colorbar": {
             "outlinewidth": 0,
             "ticks": ""
            },
            "colorscale": [
             [
              0,
              "#0d0887"
             ],
             [
              0.1111111111111111,
              "#46039f"
             ],
             [
              0.2222222222222222,
              "#7201a8"
             ],
             [
              0.3333333333333333,
              "#9c179e"
             ],
             [
              0.4444444444444444,
              "#bd3786"
             ],
             [
              0.5555555555555556,
              "#d8576b"
             ],
             [
              0.6666666666666666,
              "#ed7953"
             ],
             [
              0.7777777777777778,
              "#fb9f3a"
             ],
             [
              0.8888888888888888,
              "#fdca26"
             ],
             [
              1,
              "#f0f921"
             ]
            ],
            "type": "heatmapgl"
           }
          ],
          "histogram": [
           {
            "marker": {
             "pattern": {
              "fillmode": "overlay",
              "size": 10,
              "solidity": 0.2
             }
            },
            "type": "histogram"
           }
          ],
          "histogram2d": [
           {
            "colorbar": {
             "outlinewidth": 0,
             "ticks": ""
            },
            "colorscale": [
             [
              0,
              "#0d0887"
             ],
             [
              0.1111111111111111,
              "#46039f"
             ],
             [
              0.2222222222222222,
              "#7201a8"
             ],
             [
              0.3333333333333333,
              "#9c179e"
             ],
             [
              0.4444444444444444,
              "#bd3786"
             ],
             [
              0.5555555555555556,
              "#d8576b"
             ],
             [
              0.6666666666666666,
              "#ed7953"
             ],
             [
              0.7777777777777778,
              "#fb9f3a"
             ],
             [
              0.8888888888888888,
              "#fdca26"
             ],
             [
              1,
              "#f0f921"
             ]
            ],
            "type": "histogram2d"
           }
          ],
          "histogram2dcontour": [
           {
            "colorbar": {
             "outlinewidth": 0,
             "ticks": ""
            },
            "colorscale": [
             [
              0,
              "#0d0887"
             ],
             [
              0.1111111111111111,
              "#46039f"
             ],
             [
              0.2222222222222222,
              "#7201a8"
             ],
             [
              0.3333333333333333,
              "#9c179e"
             ],
             [
              0.4444444444444444,
              "#bd3786"
             ],
             [
              0.5555555555555556,
              "#d8576b"
             ],
             [
              0.6666666666666666,
              "#ed7953"
             ],
             [
              0.7777777777777778,
              "#fb9f3a"
             ],
             [
              0.8888888888888888,
              "#fdca26"
             ],
             [
              1,
              "#f0f921"
             ]
            ],
            "type": "histogram2dcontour"
           }
          ],
          "mesh3d": [
           {
            "colorbar": {
             "outlinewidth": 0,
             "ticks": ""
            },
            "type": "mesh3d"
           }
          ],
          "parcoords": [
           {
            "line": {
             "colorbar": {
              "outlinewidth": 0,
              "ticks": ""
             }
            },
            "type": "parcoords"
           }
          ],
          "pie": [
           {
            "automargin": true,
            "type": "pie"
           }
          ],
          "scatter": [
           {
            "marker": {
             "colorbar": {
              "outlinewidth": 0,
              "ticks": ""
             }
            },
            "type": "scatter"
           }
          ],
          "scatter3d": [
           {
            "line": {
             "colorbar": {
              "outlinewidth": 0,
              "ticks": ""
             }
            },
            "marker": {
             "colorbar": {
              "outlinewidth": 0,
              "ticks": ""
             }
            },
            "type": "scatter3d"
           }
          ],
          "scattercarpet": [
           {
            "marker": {
             "colorbar": {
              "outlinewidth": 0,
              "ticks": ""
             }
            },
            "type": "scattercarpet"
           }
          ],
          "scattergeo": [
           {
            "marker": {
             "colorbar": {
              "outlinewidth": 0,
              "ticks": ""
             }
            },
            "type": "scattergeo"
           }
          ],
          "scattergl": [
           {
            "marker": {
             "colorbar": {
              "outlinewidth": 0,
              "ticks": ""
             }
            },
            "type": "scattergl"
           }
          ],
          "scattermapbox": [
           {
            "marker": {
             "colorbar": {
              "outlinewidth": 0,
              "ticks": ""
             }
            },
            "type": "scattermapbox"
           }
          ],
          "scatterpolar": [
           {
            "marker": {
             "colorbar": {
              "outlinewidth": 0,
              "ticks": ""
             }
            },
            "type": "scatterpolar"
           }
          ],
          "scatterpolargl": [
           {
            "marker": {
             "colorbar": {
              "outlinewidth": 0,
              "ticks": ""
             }
            },
            "type": "scatterpolargl"
           }
          ],
          "scatterternary": [
           {
            "marker": {
             "colorbar": {
              "outlinewidth": 0,
              "ticks": ""
             }
            },
            "type": "scatterternary"
           }
          ],
          "surface": [
           {
            "colorbar": {
             "outlinewidth": 0,
             "ticks": ""
            },
            "colorscale": [
             [
              0,
              "#0d0887"
             ],
             [
              0.1111111111111111,
              "#46039f"
             ],
             [
              0.2222222222222222,
              "#7201a8"
             ],
             [
              0.3333333333333333,
              "#9c179e"
             ],
             [
              0.4444444444444444,
              "#bd3786"
             ],
             [
              0.5555555555555556,
              "#d8576b"
             ],
             [
              0.6666666666666666,
              "#ed7953"
             ],
             [
              0.7777777777777778,
              "#fb9f3a"
             ],
             [
              0.8888888888888888,
              "#fdca26"
             ],
             [
              1,
              "#f0f921"
             ]
            ],
            "type": "surface"
           }
          ],
          "table": [
           {
            "cells": {
             "fill": {
              "color": "#EBF0F8"
             },
             "line": {
              "color": "white"
             }
            },
            "header": {
             "fill": {
              "color": "#C8D4E3"
             },
             "line": {
              "color": "white"
             }
            },
            "type": "table"
           }
          ]
         },
         "layout": {
          "annotationdefaults": {
           "arrowcolor": "#2a3f5f",
           "arrowhead": 0,
           "arrowwidth": 1
          },
          "autotypenumbers": "strict",
          "coloraxis": {
           "colorbar": {
            "outlinewidth": 0,
            "ticks": ""
           }
          },
          "colorscale": {
           "diverging": [
            [
             0,
             "#8e0152"
            ],
            [
             0.1,
             "#c51b7d"
            ],
            [
             0.2,
             "#de77ae"
            ],
            [
             0.3,
             "#f1b6da"
            ],
            [
             0.4,
             "#fde0ef"
            ],
            [
             0.5,
             "#f7f7f7"
            ],
            [
             0.6,
             "#e6f5d0"
            ],
            [
             0.7,
             "#b8e186"
            ],
            [
             0.8,
             "#7fbc41"
            ],
            [
             0.9,
             "#4d9221"
            ],
            [
             1,
             "#276419"
            ]
           ],
           "sequential": [
            [
             0,
             "#0d0887"
            ],
            [
             0.1111111111111111,
             "#46039f"
            ],
            [
             0.2222222222222222,
             "#7201a8"
            ],
            [
             0.3333333333333333,
             "#9c179e"
            ],
            [
             0.4444444444444444,
             "#bd3786"
            ],
            [
             0.5555555555555556,
             "#d8576b"
            ],
            [
             0.6666666666666666,
             "#ed7953"
            ],
            [
             0.7777777777777778,
             "#fb9f3a"
            ],
            [
             0.8888888888888888,
             "#fdca26"
            ],
            [
             1,
             "#f0f921"
            ]
           ],
           "sequentialminus": [
            [
             0,
             "#0d0887"
            ],
            [
             0.1111111111111111,
             "#46039f"
            ],
            [
             0.2222222222222222,
             "#7201a8"
            ],
            [
             0.3333333333333333,
             "#9c179e"
            ],
            [
             0.4444444444444444,
             "#bd3786"
            ],
            [
             0.5555555555555556,
             "#d8576b"
            ],
            [
             0.6666666666666666,
             "#ed7953"
            ],
            [
             0.7777777777777778,
             "#fb9f3a"
            ],
            [
             0.8888888888888888,
             "#fdca26"
            ],
            [
             1,
             "#f0f921"
            ]
           ]
          },
          "colorway": [
           "#636efa",
           "#EF553B",
           "#00cc96",
           "#ab63fa",
           "#FFA15A",
           "#19d3f3",
           "#FF6692",
           "#B6E880",
           "#FF97FF",
           "#FECB52"
          ],
          "font": {
           "color": "#2a3f5f"
          },
          "geo": {
           "bgcolor": "white",
           "lakecolor": "white",
           "landcolor": "#E5ECF6",
           "showlakes": true,
           "showland": true,
           "subunitcolor": "white"
          },
          "hoverlabel": {
           "align": "left"
          },
          "hovermode": "closest",
          "mapbox": {
           "style": "light"
          },
          "paper_bgcolor": "white",
          "plot_bgcolor": "#E5ECF6",
          "polar": {
           "angularaxis": {
            "gridcolor": "white",
            "linecolor": "white",
            "ticks": ""
           },
           "bgcolor": "#E5ECF6",
           "radialaxis": {
            "gridcolor": "white",
            "linecolor": "white",
            "ticks": ""
           }
          },
          "scene": {
           "xaxis": {
            "backgroundcolor": "#E5ECF6",
            "gridcolor": "white",
            "gridwidth": 2,
            "linecolor": "white",
            "showbackground": true,
            "ticks": "",
            "zerolinecolor": "white"
           },
           "yaxis": {
            "backgroundcolor": "#E5ECF6",
            "gridcolor": "white",
            "gridwidth": 2,
            "linecolor": "white",
            "showbackground": true,
            "ticks": "",
            "zerolinecolor": "white"
           },
           "zaxis": {
            "backgroundcolor": "#E5ECF6",
            "gridcolor": "white",
            "gridwidth": 2,
            "linecolor": "white",
            "showbackground": true,
            "ticks": "",
            "zerolinecolor": "white"
           }
          },
          "shapedefaults": {
           "line": {
            "color": "#2a3f5f"
           }
          },
          "ternary": {
           "aaxis": {
            "gridcolor": "white",
            "linecolor": "white",
            "ticks": ""
           },
           "baxis": {
            "gridcolor": "white",
            "linecolor": "white",
            "ticks": ""
           },
           "bgcolor": "#E5ECF6",
           "caxis": {
            "gridcolor": "white",
            "linecolor": "white",
            "ticks": ""
           }
          },
          "title": {
           "x": 0.05
          },
          "xaxis": {
           "automargin": true,
           "gridcolor": "white",
           "linecolor": "white",
           "ticks": "",
           "title": {
            "standoff": 15
           },
           "zerolinecolor": "white",
           "zerolinewidth": 2
          },
          "yaxis": {
           "automargin": true,
           "gridcolor": "white",
           "linecolor": "white",
           "ticks": "",
           "title": {
            "standoff": 15
           },
           "zerolinecolor": "white",
           "zerolinewidth": 2
          }
         }
        }
       }
      },
      "text/html": [
       "<div>                            <div id=\"03b95e20-41c7-46b9-8808-6318f18d54d5\" class=\"plotly-graph-div\" style=\"height:525px; width:100%;\"></div>            <script type=\"text/javascript\">                require([\"plotly\"], function(Plotly) {                    window.PLOTLYENV=window.PLOTLYENV || {};                                    if (document.getElementById(\"03b95e20-41c7-46b9-8808-6318f18d54d5\")) {                    Plotly.newPlot(                        \"03b95e20-41c7-46b9-8808-6318f18d54d5\",                        [{\"coloraxis\":\"coloraxis\",\"geo\":\"geo\",\"hovertemplate\":\"locations=%{location}<br>Mean Sentiment=%{z}<extra></extra>\",\"locationmode\":\"USA-states\",\"locations\":[\"AL\",\"CA\",\"CO\",\"DC\",\"DE\",\"FL\",\"GA\",\"HI\",\"IA\",\"IN\",\"KS\",\"LA\",\"MA\",\"ME\",\"MI\",\"MN\",\"MO\",\"MS\",\"NC\",\"NE\",\"NJ\",\"NV\",\"NY\",\"OH\",\"OK\",\"OR\",\"PA\",\"SC\",\"TN\",\"TX\",\"WA\",\"WI\"],\"name\":\"\",\"z\":[0.11740857142857143,0.0017610820244328125,0.08521754494730317,0.024864000000000004,0.11925787476280834,0.017059036144578314,0.06959977032613689,-0.056112499999999996,0.11740857142857143,0.054310000000000004,-0.056112499999999996,0.05385293761356754,0.11740857142857143,0.11740857142857143,0.11759961941008563,-0.05614850332594235,0.05425714718352514,0.02419840142095915,0.11740857142857143,0.11853441064638784,0.11740857142857143,-0.0035549826187717243,-0.020919737342976776,-0.017311903738719377,-0.056112499999999996,-0.056112499999999996,0.024864,0.11740857142857143,0.024864,-0.016930322580645155,0.024864000000000004,0.11456280834914612],\"type\":\"choropleth\"}],                        {\"template\":{\"data\":{\"bar\":[{\"error_x\":{\"color\":\"#2a3f5f\"},\"error_y\":{\"color\":\"#2a3f5f\"},\"marker\":{\"line\":{\"color\":\"#E5ECF6\",\"width\":0.5},\"pattern\":{\"fillmode\":\"overlay\",\"size\":10,\"solidity\":0.2}},\"type\":\"bar\"}],\"barpolar\":[{\"marker\":{\"line\":{\"color\":\"#E5ECF6\",\"width\":0.5},\"pattern\":{\"fillmode\":\"overlay\",\"size\":10,\"solidity\":0.2}},\"type\":\"barpolar\"}],\"carpet\":[{\"aaxis\":{\"endlinecolor\":\"#2a3f5f\",\"gridcolor\":\"white\",\"linecolor\":\"white\",\"minorgridcolor\":\"white\",\"startlinecolor\":\"#2a3f5f\"},\"baxis\":{\"endlinecolor\":\"#2a3f5f\",\"gridcolor\":\"white\",\"linecolor\":\"white\",\"minorgridcolor\":\"white\",\"startlinecolor\":\"#2a3f5f\"},\"type\":\"carpet\"}],\"choropleth\":[{\"colorbar\":{\"outlinewidth\":0,\"ticks\":\"\"},\"type\":\"choropleth\"}],\"contour\":[{\"colorbar\":{\"outlinewidth\":0,\"ticks\":\"\"},\"colorscale\":[[0.0,\"#0d0887\"],[0.1111111111111111,\"#46039f\"],[0.2222222222222222,\"#7201a8\"],[0.3333333333333333,\"#9c179e\"],[0.4444444444444444,\"#bd3786\"],[0.5555555555555556,\"#d8576b\"],[0.6666666666666666,\"#ed7953\"],[0.7777777777777778,\"#fb9f3a\"],[0.8888888888888888,\"#fdca26\"],[1.0,\"#f0f921\"]],\"type\":\"contour\"}],\"contourcarpet\":[{\"colorbar\":{\"outlinewidth\":0,\"ticks\":\"\"},\"type\":\"contourcarpet\"}],\"heatmap\":[{\"colorbar\":{\"outlinewidth\":0,\"ticks\":\"\"},\"colorscale\":[[0.0,\"#0d0887\"],[0.1111111111111111,\"#46039f\"],[0.2222222222222222,\"#7201a8\"],[0.3333333333333333,\"#9c179e\"],[0.4444444444444444,\"#bd3786\"],[0.5555555555555556,\"#d8576b\"],[0.6666666666666666,\"#ed7953\"],[0.7777777777777778,\"#fb9f3a\"],[0.8888888888888888,\"#fdca26\"],[1.0,\"#f0f921\"]],\"type\":\"heatmap\"}],\"heatmapgl\":[{\"colorbar\":{\"outlinewidth\":0,\"ticks\":\"\"},\"colorscale\":[[0.0,\"#0d0887\"],[0.1111111111111111,\"#46039f\"],[0.2222222222222222,\"#7201a8\"],[0.3333333333333333,\"#9c179e\"],[0.4444444444444444,\"#bd3786\"],[0.5555555555555556,\"#d8576b\"],[0.6666666666666666,\"#ed7953\"],[0.7777777777777778,\"#fb9f3a\"],[0.8888888888888888,\"#fdca26\"],[1.0,\"#f0f921\"]],\"type\":\"heatmapgl\"}],\"histogram\":[{\"marker\":{\"pattern\":{\"fillmode\":\"overlay\",\"size\":10,\"solidity\":0.2}},\"type\":\"histogram\"}],\"histogram2d\":[{\"colorbar\":{\"outlinewidth\":0,\"ticks\":\"\"},\"colorscale\":[[0.0,\"#0d0887\"],[0.1111111111111111,\"#46039f\"],[0.2222222222222222,\"#7201a8\"],[0.3333333333333333,\"#9c179e\"],[0.4444444444444444,\"#bd3786\"],[0.5555555555555556,\"#d8576b\"],[0.6666666666666666,\"#ed7953\"],[0.7777777777777778,\"#fb9f3a\"],[0.8888888888888888,\"#fdca26\"],[1.0,\"#f0f921\"]],\"type\":\"histogram2d\"}],\"histogram2dcontour\":[{\"colorbar\":{\"outlinewidth\":0,\"ticks\":\"\"},\"colorscale\":[[0.0,\"#0d0887\"],[0.1111111111111111,\"#46039f\"],[0.2222222222222222,\"#7201a8\"],[0.3333333333333333,\"#9c179e\"],[0.4444444444444444,\"#bd3786\"],[0.5555555555555556,\"#d8576b\"],[0.6666666666666666,\"#ed7953\"],[0.7777777777777778,\"#fb9f3a\"],[0.8888888888888888,\"#fdca26\"],[1.0,\"#f0f921\"]],\"type\":\"histogram2dcontour\"}],\"mesh3d\":[{\"colorbar\":{\"outlinewidth\":0,\"ticks\":\"\"},\"type\":\"mesh3d\"}],\"parcoords\":[{\"line\":{\"colorbar\":{\"outlinewidth\":0,\"ticks\":\"\"}},\"type\":\"parcoords\"}],\"pie\":[{\"automargin\":true,\"type\":\"pie\"}],\"scatter\":[{\"marker\":{\"colorbar\":{\"outlinewidth\":0,\"ticks\":\"\"}},\"type\":\"scatter\"}],\"scatter3d\":[{\"line\":{\"colorbar\":{\"outlinewidth\":0,\"ticks\":\"\"}},\"marker\":{\"colorbar\":{\"outlinewidth\":0,\"ticks\":\"\"}},\"type\":\"scatter3d\"}],\"scattercarpet\":[{\"marker\":{\"colorbar\":{\"outlinewidth\":0,\"ticks\":\"\"}},\"type\":\"scattercarpet\"}],\"scattergeo\":[{\"marker\":{\"colorbar\":{\"outlinewidth\":0,\"ticks\":\"\"}},\"type\":\"scattergeo\"}],\"scattergl\":[{\"marker\":{\"colorbar\":{\"outlinewidth\":0,\"ticks\":\"\"}},\"type\":\"scattergl\"}],\"scattermapbox\":[{\"marker\":{\"colorbar\":{\"outlinewidth\":0,\"ticks\":\"\"}},\"type\":\"scattermapbox\"}],\"scatterpolar\":[{\"marker\":{\"colorbar\":{\"outlinewidth\":0,\"ticks\":\"\"}},\"type\":\"scatterpolar\"}],\"scatterpolargl\":[{\"marker\":{\"colorbar\":{\"outlinewidth\":0,\"ticks\":\"\"}},\"type\":\"scatterpolargl\"}],\"scatterternary\":[{\"marker\":{\"colorbar\":{\"outlinewidth\":0,\"ticks\":\"\"}},\"type\":\"scatterternary\"}],\"surface\":[{\"colorbar\":{\"outlinewidth\":0,\"ticks\":\"\"},\"colorscale\":[[0.0,\"#0d0887\"],[0.1111111111111111,\"#46039f\"],[0.2222222222222222,\"#7201a8\"],[0.3333333333333333,\"#9c179e\"],[0.4444444444444444,\"#bd3786\"],[0.5555555555555556,\"#d8576b\"],[0.6666666666666666,\"#ed7953\"],[0.7777777777777778,\"#fb9f3a\"],[0.8888888888888888,\"#fdca26\"],[1.0,\"#f0f921\"]],\"type\":\"surface\"}],\"table\":[{\"cells\":{\"fill\":{\"color\":\"#EBF0F8\"},\"line\":{\"color\":\"white\"}},\"header\":{\"fill\":{\"color\":\"#C8D4E3\"},\"line\":{\"color\":\"white\"}},\"type\":\"table\"}]},\"layout\":{\"annotationdefaults\":{\"arrowcolor\":\"#2a3f5f\",\"arrowhead\":0,\"arrowwidth\":1},\"autotypenumbers\":\"strict\",\"coloraxis\":{\"colorbar\":{\"outlinewidth\":0,\"ticks\":\"\"}},\"colorscale\":{\"diverging\":[[0,\"#8e0152\"],[0.1,\"#c51b7d\"],[0.2,\"#de77ae\"],[0.3,\"#f1b6da\"],[0.4,\"#fde0ef\"],[0.5,\"#f7f7f7\"],[0.6,\"#e6f5d0\"],[0.7,\"#b8e186\"],[0.8,\"#7fbc41\"],[0.9,\"#4d9221\"],[1,\"#276419\"]],\"sequential\":[[0.0,\"#0d0887\"],[0.1111111111111111,\"#46039f\"],[0.2222222222222222,\"#7201a8\"],[0.3333333333333333,\"#9c179e\"],[0.4444444444444444,\"#bd3786\"],[0.5555555555555556,\"#d8576b\"],[0.6666666666666666,\"#ed7953\"],[0.7777777777777778,\"#fb9f3a\"],[0.8888888888888888,\"#fdca26\"],[1.0,\"#f0f921\"]],\"sequentialminus\":[[0.0,\"#0d0887\"],[0.1111111111111111,\"#46039f\"],[0.2222222222222222,\"#7201a8\"],[0.3333333333333333,\"#9c179e\"],[0.4444444444444444,\"#bd3786\"],[0.5555555555555556,\"#d8576b\"],[0.6666666666666666,\"#ed7953\"],[0.7777777777777778,\"#fb9f3a\"],[0.8888888888888888,\"#fdca26\"],[1.0,\"#f0f921\"]]},\"colorway\":[\"#636efa\",\"#EF553B\",\"#00cc96\",\"#ab63fa\",\"#FFA15A\",\"#19d3f3\",\"#FF6692\",\"#B6E880\",\"#FF97FF\",\"#FECB52\"],\"font\":{\"color\":\"#2a3f5f\"},\"geo\":{\"bgcolor\":\"white\",\"lakecolor\":\"white\",\"landcolor\":\"#E5ECF6\",\"showlakes\":true,\"showland\":true,\"subunitcolor\":\"white\"},\"hoverlabel\":{\"align\":\"left\"},\"hovermode\":\"closest\",\"mapbox\":{\"style\":\"light\"},\"paper_bgcolor\":\"white\",\"plot_bgcolor\":\"#E5ECF6\",\"polar\":{\"angularaxis\":{\"gridcolor\":\"white\",\"linecolor\":\"white\",\"ticks\":\"\"},\"bgcolor\":\"#E5ECF6\",\"radialaxis\":{\"gridcolor\":\"white\",\"linecolor\":\"white\",\"ticks\":\"\"}},\"scene\":{\"xaxis\":{\"backgroundcolor\":\"#E5ECF6\",\"gridcolor\":\"white\",\"gridwidth\":2,\"linecolor\":\"white\",\"showbackground\":true,\"ticks\":\"\",\"zerolinecolor\":\"white\"},\"yaxis\":{\"backgroundcolor\":\"#E5ECF6\",\"gridcolor\":\"white\",\"gridwidth\":2,\"linecolor\":\"white\",\"showbackground\":true,\"ticks\":\"\",\"zerolinecolor\":\"white\"},\"zaxis\":{\"backgroundcolor\":\"#E5ECF6\",\"gridcolor\":\"white\",\"gridwidth\":2,\"linecolor\":\"white\",\"showbackground\":true,\"ticks\":\"\",\"zerolinecolor\":\"white\"}},\"shapedefaults\":{\"line\":{\"color\":\"#2a3f5f\"}},\"ternary\":{\"aaxis\":{\"gridcolor\":\"white\",\"linecolor\":\"white\",\"ticks\":\"\"},\"baxis\":{\"gridcolor\":\"white\",\"linecolor\":\"white\",\"ticks\":\"\"},\"bgcolor\":\"#E5ECF6\",\"caxis\":{\"gridcolor\":\"white\",\"linecolor\":\"white\",\"ticks\":\"\"}},\"title\":{\"x\":0.05},\"xaxis\":{\"automargin\":true,\"gridcolor\":\"white\",\"linecolor\":\"white\",\"ticks\":\"\",\"title\":{\"standoff\":15},\"zerolinecolor\":\"white\",\"zerolinewidth\":2},\"yaxis\":{\"automargin\":true,\"gridcolor\":\"white\",\"linecolor\":\"white\",\"ticks\":\"\",\"title\":{\"standoff\":15},\"zerolinecolor\":\"white\",\"zerolinewidth\":2}}},\"geo\":{\"domain\":{\"x\":[0.0,1.0],\"y\":[0.0,1.0]},\"center\":{},\"scope\":\"usa\"},\"coloraxis\":{\"colorbar\":{\"title\":{\"text\":\"Mean Sentiment\"}},\"colorscale\":[[0.0,\"#0d0887\"],[0.1111111111111111,\"#46039f\"],[0.2222222222222222,\"#7201a8\"],[0.3333333333333333,\"#9c179e\"],[0.4444444444444444,\"#bd3786\"],[0.5555555555555556,\"#d8576b\"],[0.6666666666666666,\"#ed7953\"],[0.7777777777777778,\"#fb9f3a\"],[0.8888888888888888,\"#fdca26\"],[1.0,\"#f0f921\"]]},\"legend\":{\"tracegroupgap\":0},\"margin\":{\"t\":60}},                        {\"responsive\": true}                    ).then(function(){\n",
       "                            \n",
       "var gd = document.getElementById('03b95e20-41c7-46b9-8808-6318f18d54d5');\n",
       "var x = new MutationObserver(function (mutations, observer) {{\n",
       "        var display = window.getComputedStyle(gd).display;\n",
       "        if (!display || display === 'none') {{\n",
       "            console.log([gd, 'removed!']);\n",
       "            Plotly.purge(gd);\n",
       "            observer.disconnect();\n",
       "        }}\n",
       "}});\n",
       "\n",
       "// Listen for the removal of the full notebook cells\n",
       "var notebookContainer = gd.closest('#notebook-container');\n",
       "if (notebookContainer) {{\n",
       "    x.observe(notebookContainer, {childList: true});\n",
       "}}\n",
       "\n",
       "// Listen for the clearing of the current output cell\n",
       "var outputEl = gd.closest('.output');\n",
       "if (outputEl) {{\n",
       "    x.observe(outputEl, {childList: true});\n",
       "}}\n",
       "\n",
       "                        })                };                });            </script>        </div>"
      ]
     },
     "metadata": {},
     "output_type": "display_data"
    }
   ],
   "source": [
    "location_list = sentiment_state[\"Location\"].to_numpy()\n",
    "sentiment_list = sentiment_state[\"Sentiment\"].to_numpy()\n",
    "\n",
    "fig = px.choropleth(locations=location_list, locationmode=\"USA-states\", color=sentiment_list, scope=\"usa\",\n",
    "                   labels={'color':'Mean Sentiment'})\n",
    " \n",
    "fig.show()"
   ]
  },
  {
   "cell_type": "markdown",
   "id": "26852f24",
   "metadata": {},
   "source": [
    "# 5. Result sentiment analysis\n"
   ]
  },
  {
   "cell_type": "markdown",
   "id": "d52ea42b",
   "metadata": {},
   "source": [
    "For each of the states in our dataset we investigated on the internet whether abortion is banned, legal or limited. We included this information in the dataset with the location and the mean sentiment. "
   ]
  },
  {
   "cell_type": "code",
   "execution_count": 21,
   "id": "268ffde3",
   "metadata": {},
   "outputs": [
    {
     "name": "stdout",
     "output_type": "stream",
     "text": [
      "['AL' 'CA' 'CO' 'DC' 'DE' 'FL' 'GA' 'HI' 'IA' 'IN' 'KS' 'LA' 'MA' 'ME'\n",
      " 'MI' 'MN' 'MO' 'MS' 'NC' 'NE' 'NJ' 'NV' 'NY' 'OH' 'OK' 'OR' 'PA' 'SC'\n",
      " 'TN' 'TX' 'WA' 'WI']\n"
     ]
    }
   ],
   "source": [
    "ar = sentiment_state.Location.unique()\n",
    "print(np.sort(ar))"
   ]
  },
  {
   "cell_type": "code",
   "execution_count": 22,
   "id": "8fd2117c",
   "metadata": {},
   "outputs": [],
   "source": [
    "law_per_state = sentiment_state.assign(label='')"
   ]
  },
  {
   "cell_type": "code",
   "execution_count": 23,
   "id": "4102a49c",
   "metadata": {},
   "outputs": [
    {
     "data": {
      "text/html": [
       "<div>\n",
       "<style scoped>\n",
       "    .dataframe tbody tr th:only-of-type {\n",
       "        vertical-align: middle;\n",
       "    }\n",
       "\n",
       "    .dataframe tbody tr th {\n",
       "        vertical-align: top;\n",
       "    }\n",
       "\n",
       "    .dataframe thead th {\n",
       "        text-align: right;\n",
       "    }\n",
       "</style>\n",
       "<table border=\"1\" class=\"dataframe\">\n",
       "  <thead>\n",
       "    <tr style=\"text-align: right;\">\n",
       "      <th></th>\n",
       "      <th>Location</th>\n",
       "      <th>Sentiment</th>\n",
       "      <th>label</th>\n",
       "    </tr>\n",
       "  </thead>\n",
       "  <tbody>\n",
       "    <tr>\n",
       "      <th>0</th>\n",
       "      <td>AL</td>\n",
       "      <td>0.117409</td>\n",
       "      <td>banned</td>\n",
       "    </tr>\n",
       "    <tr>\n",
       "      <th>1</th>\n",
       "      <td>CA</td>\n",
       "      <td>0.001761</td>\n",
       "      <td>legal</td>\n",
       "    </tr>\n",
       "    <tr>\n",
       "      <th>2</th>\n",
       "      <td>CO</td>\n",
       "      <td>0.085218</td>\n",
       "      <td>legal</td>\n",
       "    </tr>\n",
       "    <tr>\n",
       "      <th>3</th>\n",
       "      <td>DC</td>\n",
       "      <td>0.024864</td>\n",
       "      <td>legal</td>\n",
       "    </tr>\n",
       "    <tr>\n",
       "      <th>4</th>\n",
       "      <td>DE</td>\n",
       "      <td>0.119258</td>\n",
       "      <td>legal</td>\n",
       "    </tr>\n",
       "  </tbody>\n",
       "</table>\n",
       "</div>"
      ],
      "text/plain": [
       "  Location  Sentiment   label\n",
       "0       AL   0.117409  banned\n",
       "1       CA   0.001761   legal\n",
       "2       CO   0.085218   legal\n",
       "3       DC   0.024864   legal\n",
       "4       DE   0.119258   legal"
      ]
     },
     "execution_count": 23,
     "metadata": {},
     "output_type": "execute_result"
    }
   ],
   "source": [
    "banned = ['AL','LA','MS','MO','TN','TX','WV','WI']\n",
    "limit = ['FL','IA','GA','NC','IN','OH','MI']\n",
    "\n",
    "law_per_state.loc[law_per_state['Location'].isin(banned),'label'] = 'banned'\n",
    "law_per_state.loc[law_per_state['Location'].isin(limit),'label'] = 'limit'\n",
    "law_per_state.loc[law_per_state['label'] == '','label'] = 'legal'\n",
    "\n",
    "law_per_state.head(5)"
   ]
  },
  {
   "cell_type": "markdown",
   "id": "4885432f",
   "metadata": {},
   "source": [
    "We want to calculate the correlation between the law and the sentiment. In order to do this we have to change 'legal', 'banned', 'limit' to numeric values. We changed banned to 0, limit to 1 and legal to 2. Below we see that there is not much correlation between the two columns."
   ]
  },
  {
   "cell_type": "code",
   "execution_count": 24,
   "id": "cc2653f7",
   "metadata": {},
   "outputs": [
    {
     "data": {
      "text/html": [
       "<div>\n",
       "<style scoped>\n",
       "    .dataframe tbody tr th:only-of-type {\n",
       "        vertical-align: middle;\n",
       "    }\n",
       "\n",
       "    .dataframe tbody tr th {\n",
       "        vertical-align: top;\n",
       "    }\n",
       "\n",
       "    .dataframe thead th {\n",
       "        text-align: right;\n",
       "    }\n",
       "</style>\n",
       "<table border=\"1\" class=\"dataframe\">\n",
       "  <thead>\n",
       "    <tr style=\"text-align: right;\">\n",
       "      <th></th>\n",
       "      <th>Location</th>\n",
       "      <th>Sentiment</th>\n",
       "      <th>label</th>\n",
       "    </tr>\n",
       "  </thead>\n",
       "  <tbody>\n",
       "    <tr>\n",
       "      <th>0</th>\n",
       "      <td>AL</td>\n",
       "      <td>0.117409</td>\n",
       "      <td>0</td>\n",
       "    </tr>\n",
       "    <tr>\n",
       "      <th>1</th>\n",
       "      <td>CA</td>\n",
       "      <td>0.001761</td>\n",
       "      <td>2</td>\n",
       "    </tr>\n",
       "    <tr>\n",
       "      <th>2</th>\n",
       "      <td>CO</td>\n",
       "      <td>0.085218</td>\n",
       "      <td>2</td>\n",
       "    </tr>\n",
       "    <tr>\n",
       "      <th>3</th>\n",
       "      <td>DC</td>\n",
       "      <td>0.024864</td>\n",
       "      <td>2</td>\n",
       "    </tr>\n",
       "    <tr>\n",
       "      <th>4</th>\n",
       "      <td>DE</td>\n",
       "      <td>0.119258</td>\n",
       "      <td>2</td>\n",
       "    </tr>\n",
       "  </tbody>\n",
       "</table>\n",
       "</div>"
      ],
      "text/plain": [
       "  Location  Sentiment label\n",
       "0       AL   0.117409     0\n",
       "1       CA   0.001761     2\n",
       "2       CO   0.085218     2\n",
       "3       DC   0.024864     2\n",
       "4       DE   0.119258     2"
      ]
     },
     "execution_count": 24,
     "metadata": {},
     "output_type": "execute_result"
    }
   ],
   "source": [
    "calculate_corr = sentiment_state.copy()\n",
    "calculate_corr = calculate_corr.assign(label='')\n",
    "\n",
    "calculate_corr.loc[calculate_corr['Location'].isin(banned),'label'] = 0\n",
    "calculate_corr.loc[calculate_corr['Location'].isin(limit),'label'] = 1\n",
    "calculate_corr.loc[calculate_corr['label'] == '','label'] = 2\n",
    "\n",
    "calculate_corr.head(5)"
   ]
  },
  {
   "cell_type": "code",
   "execution_count": 25,
   "id": "24a3a75d",
   "metadata": {},
   "outputs": [
    {
     "name": "stdout",
     "output_type": "stream",
     "text": [
      "(-0.17656498779654545, 0.33370029952391667)\n"
     ]
    }
   ],
   "source": [
    "from scipy.stats.stats import pearsonr   \n",
    "\n",
    "x = calculate_corr[\"Sentiment\"].to_numpy()\n",
    "y = calculate_corr[\"label\"].to_numpy()\n",
    "\n",
    "#pierson correlation coefficient and the p-value\n",
    "print(pearsonr(x,y))"
   ]
  },
  {
   "cell_type": "markdown",
   "id": "a22b936a",
   "metadata": {},
   "source": [
    "# 6. Modelling"
   ]
  },
  {
   "cell_type": "code",
   "execution_count": 19,
   "id": "f4b94d10",
   "metadata": {},
   "outputs": [
    {
     "name": "stdout",
     "output_type": "stream",
     "text": [
      "['AL' 'CA' 'CO' 'DC' 'DE' 'FL' 'GA' 'HI' 'IA' 'IN' 'KS' 'LA' 'MA' 'ME'\n",
      " 'MI' 'MN' 'MO' 'MS' 'NC' 'NE' 'NJ' 'NV' 'NY' 'OH' 'OK' 'OR' 'PA' 'SC'\n",
      " 'TN' 'TX' 'WA' 'WI']\n"
     ]
    }
   ],
   "source": [
    "import numpy as np\n",
    "\n",
    "ar = final_df.Location.unique()\n",
    "print(np.sort(ar))"
   ]
  },
  {
   "cell_type": "code",
   "execution_count": 20,
   "id": "5ad9f4a6",
   "metadata": {},
   "outputs": [],
   "source": [
    "final_df1 = final_df.assign(label='')"
   ]
  },
  {
   "cell_type": "code",
   "execution_count": 21,
   "id": "107ba4e3",
   "metadata": {},
   "outputs": [],
   "source": [
    "banned = ['AL','LA','MS','MO','TN','TX','WV','WI']\n",
    "limit = ['FL','IA','GA','NC','IN','OH','MI']\n",
    "\n",
    "final_df1.loc[final_df1['Location'].isin(banned),'label'] = 'banned'\n",
    "final_df1.loc[final_df1['Location'].isin(limit),'label'] = 'limit'\n",
    "final_df1.loc[final_df1['label'] == '','label'] = 'legal'"
   ]
  },
  {
   "cell_type": "code",
   "execution_count": 22,
   "id": "08e352d7",
   "metadata": {},
   "outputs": [
    {
     "data": {
      "text/html": [
       "<div>\n",
       "<style scoped>\n",
       "    .dataframe tbody tr th:only-of-type {\n",
       "        vertical-align: middle;\n",
       "    }\n",
       "\n",
       "    .dataframe tbody tr th {\n",
       "        vertical-align: top;\n",
       "    }\n",
       "\n",
       "    .dataframe thead th {\n",
       "        text-align: right;\n",
       "    }\n",
       "</style>\n",
       "<table border=\"1\" class=\"dataframe\">\n",
       "  <thead>\n",
       "    <tr style=\"text-align: right;\">\n",
       "      <th></th>\n",
       "      <th>Tweet</th>\n",
       "      <th>Location</th>\n",
       "      <th>label</th>\n",
       "    </tr>\n",
       "  </thead>\n",
       "  <tbody>\n",
       "    <tr>\n",
       "      <th>0</th>\n",
       "      <td>Democratic senators need to shut up and come u...</td>\n",
       "      <td>WI</td>\n",
       "      <td>banned</td>\n",
       "    </tr>\n",
       "    <tr>\n",
       "      <th>1</th>\n",
       "      <td>Overturning #RoeVWade is a public health crisi...</td>\n",
       "      <td>OH</td>\n",
       "      <td>limit</td>\n",
       "    </tr>\n",
       "    <tr>\n",
       "      <th>2</th>\n",
       "      <td>SIGN NOW -&amp;gt; Demand Congress stand up immedi...</td>\n",
       "      <td>DE</td>\n",
       "      <td>legal</td>\n",
       "    </tr>\n",
       "    <tr>\n",
       "      <th>3</th>\n",
       "      <td>#RoeVWade https://t.co/VYMtMZVuHH</td>\n",
       "      <td>OH</td>\n",
       "      <td>limit</td>\n",
       "    </tr>\n",
       "    <tr>\n",
       "      <th>4</th>\n",
       "      <td>This days it all. #RoeVWade https://t.co/JvMFK...</td>\n",
       "      <td>WA</td>\n",
       "      <td>legal</td>\n",
       "    </tr>\n",
       "    <tr>\n",
       "      <th>...</th>\n",
       "      <td>...</td>\n",
       "      <td>...</td>\n",
       "      <td>...</td>\n",
       "    </tr>\n",
       "    <tr>\n",
       "      <th>149995</th>\n",
       "      <td>I may seem okay, but I get randomly choked up/...</td>\n",
       "      <td>MN</td>\n",
       "      <td>legal</td>\n",
       "    </tr>\n",
       "    <tr>\n",
       "      <th>149996</th>\n",
       "      <td>@myrnamelgar Constitutional scholar Myrna Melg...</td>\n",
       "      <td>MO</td>\n",
       "      <td>banned</td>\n",
       "    </tr>\n",
       "    <tr>\n",
       "      <th>149997</th>\n",
       "      <td>All Out for Abortion Rights! in Downtown Sprin...</td>\n",
       "      <td>MO</td>\n",
       "      <td>banned</td>\n",
       "    </tr>\n",
       "    <tr>\n",
       "      <th>149998</th>\n",
       "      <td>.</td>\n",
       "      <td>CO</td>\n",
       "      <td>legal</td>\n",
       "    </tr>\n",
       "    <tr>\n",
       "      <th>149999</th>\n",
       "      <td>6/24/2022</td>\n",
       "      <td>MN</td>\n",
       "      <td>legal</td>\n",
       "    </tr>\n",
       "  </tbody>\n",
       "</table>\n",
       "<p>146940 rows × 3 columns</p>\n",
       "</div>"
      ],
      "text/plain": [
       "                                                    Tweet Location   label\n",
       "0       Democratic senators need to shut up and come u...       WI  banned\n",
       "1       Overturning #RoeVWade is a public health crisi...       OH   limit\n",
       "2       SIGN NOW -&gt; Demand Congress stand up immedi...       DE   legal\n",
       "3                       #RoeVWade https://t.co/VYMtMZVuHH       OH   limit\n",
       "4       This days it all. #RoeVWade https://t.co/JvMFK...       WA   legal\n",
       "...                                                   ...      ...     ...\n",
       "149995  I may seem okay, but I get randomly choked up/...       MN   legal\n",
       "149996  @myrnamelgar Constitutional scholar Myrna Melg...       MO  banned\n",
       "149997  All Out for Abortion Rights! in Downtown Sprin...       MO  banned\n",
       "149998                                                  .       CO   legal\n",
       "149999                                          6/24/2022       MN   legal\n",
       "\n",
       "[146940 rows x 3 columns]"
      ]
     },
     "execution_count": 22,
     "metadata": {},
     "output_type": "execute_result"
    }
   ],
   "source": [
    "final_df1"
   ]
  },
  {
   "cell_type": "code",
   "execution_count": 27,
   "id": "ba4e9b75",
   "metadata": {},
   "outputs": [
    {
     "data": {
      "text/plain": [
       "0         banned\n",
       "1          limit\n",
       "2          legal\n",
       "3          limit\n",
       "4          legal\n",
       "           ...  \n",
       "149995     legal\n",
       "149996    banned\n",
       "149997    banned\n",
       "149998     legal\n",
       "149999     legal\n",
       "Name: label, Length: 146940, dtype: object"
      ]
     },
     "execution_count": 27,
     "metadata": {},
     "output_type": "execute_result"
    }
   ],
   "source": [
    "df = law_per_state\n",
    "df"
   ]
  },
  {
   "cell_type": "code",
   "execution_count": 31,
   "id": "4f5ff760",
   "metadata": {
    "collapsed": true
   },
   "outputs": [
    {
     "name": "stdout",
     "output_type": "stream",
     "text": [
      "Collecting scikit-learn\n",
      "\u001b[?25l  Downloading https://files.pythonhosted.org/packages/62/9a/e2ada8dd61783d6eddbe159f4714e8effe46121923d93ba3c1e9249f423c/scikit_learn-1.1.3-cp38-cp38-macosx_10_9_x86_64.whl (8.6MB)\n",
      "\u001b[K     |████████████████████████████████| 8.6MB 5.7MB/s eta 0:00:01\n",
      "\u001b[?25hCollecting scipy>=1.3.2 (from scikit-learn)\n",
      "\u001b[?25l  Downloading https://files.pythonhosted.org/packages/84/86/4f38fa30c112c3590954420f85d95b8cd23811ecc5cfc4bfd4d988d4db44/scipy-1.9.3-cp38-cp38-macosx_10_9_x86_64.whl (34.2MB)\n",
      "\u001b[K     |████████████████████████████████| 34.2MB 31.4MB/s eta 0:00:01\n",
      "\u001b[?25hRequirement already satisfied, skipping upgrade: numpy>=1.17.3 in /Library/Frameworks/Python.framework/Versions/3.8/lib/python3.8/site-packages (from scikit-learn) (1.23.4)\n",
      "Collecting threadpoolctl>=2.0.0 (from scikit-learn)\n",
      "  Using cached https://files.pythonhosted.org/packages/61/cf/6e354304bcb9c6413c4e02a747b600061c21d38ba51e7e544ac7bc66aecc/threadpoolctl-3.1.0-py3-none-any.whl\n",
      "Requirement already satisfied, skipping upgrade: joblib>=1.0.0 in /Library/Frameworks/Python.framework/Versions/3.8/lib/python3.8/site-packages (from scikit-learn) (1.2.0)\n",
      "Installing collected packages: scipy, threadpoolctl, scikit-learn\n",
      "Successfully installed scikit-learn-1.1.3 scipy-1.9.3 threadpoolctl-3.1.0\n",
      "\u001b[33mWARNING: You are using pip version 19.2.3, however version 22.3.1 is available.\n",
      "You should consider upgrading via the 'pip install --upgrade pip' command.\u001b[0m\n"
     ]
    }
   ],
   "source": [
    "!pip3 install -U scikit-learn"
   ]
  },
  {
   "cell_type": "code",
   "execution_count": 33,
   "id": "b3ec3c8a",
   "metadata": {},
   "outputs": [],
   "source": [
    "from sklearn.model_selection import train_test_split\n",
    "from sklearn.preprocessing import LabelEncoder\n",
    "\n",
    "df = law_per_state\n",
    "y = df['label']\n",
    "x = df\n",
    "\n",
    "X_train, X_test, y_train, y_test  = train_test_split(x,y, test_size=0.2, random_state=42,stratify=y)\n",
    "\n",
    "X_train = X_train.reset_index(drop=True)\n",
    "X_test = X_test.reset_index(drop=True)\n",
    "#print(X_test.groupby('category').size())\n",
    "\n",
    "\n",
    "X_test = X_test.drop(['label'],axis=1)\n",
    "\n",
    "le = LabelEncoder()\n",
    "le.fit(y_train)\n",
    "y_train = le.transform(y_train)\n",
    "y_test = le.transform(y_test)\n",
    "\n",
    "\n",
    "X_test.columns = X_test.columns.str.strip()\n",
    "X_train.columns = X_train.columns.str.strip()\n",
    "\n",
    "X_test=X_test.reset_index(drop=True)\n",
    "X_train=X_train.reset_index(drop=True)\n"
   ]
  },
  {
   "cell_type": "code",
   "execution_count": 39,
   "id": "79d246df",
   "metadata": {},
   "outputs": [],
   "source": [
    "from nltk.tokenize import word_tokenize,WordPunctTokenizer\n",
    "from nltk.corpus import stopwords\n",
    "\n",
    "#test set tokenization\n",
    "\n",
    "test_lowercase = []\n",
    "clean_test_words = []\n",
    "clean_test_words_str = []\n",
    "tokenizer = WordPunctTokenizer()\n",
    "for word in X_test['Tweet']:\n",
    "    test_lowercase.append(tokenizer.tokenize(word.lower()))\n",
    "\n",
    "stop_words = set(stopwords.words('english'))\n",
    "\n",
    "i=0\n",
    "for x in range(0,len(test_lowercase)):\n",
    "    \n",
    "    clean_test_words.append([token for token in test_lowercase[x] if not token in stop_words and token.isalpha()])\n",
    "    clean_test_words_str.append(\" \".join(clean_test_words[i]))\n",
    "    i+=1"
   ]
  },
  {
   "cell_type": "code",
   "execution_count": 40,
   "id": "8f912637",
   "metadata": {},
   "outputs": [],
   "source": [
    "#train set tokenization\n",
    "\n",
    "lowercase = []\n",
    "clean_words = []\n",
    "clean_words_str = []\n",
    "tokenizer = WordPunctTokenizer()\n",
    "for word in X_train['Tweet']:\n",
    "    lowercase.append(tokenizer.tokenize(word.lower()))\n",
    "\n",
    "stop_words = set(stopwords.words('english'))\n",
    "\n",
    "i=0\n",
    "for x in range(0,len(lowercase)):\n",
    "    \n",
    "    clean_words.append([token for token in lowercase[x] if not token in stop_words and token.isalpha()])\n",
    "    clean_words_str.append(\" \".join(clean_words[i]))\n",
    "    i+=1"
   ]
  },
  {
   "cell_type": "code",
   "execution_count": 41,
   "id": "c19fafe7",
   "metadata": {},
   "outputs": [],
   "source": [
    "from sklearn.feature_extraction.text import TfidfVectorizer\n",
    "\n",
    "#tf-idf\n",
    "tfidf_vectorizer = TfidfVectorizer(max_features=100, sublinear_tf=True, min_df=7) \n",
    "tfidf = tfidf_vectorizer.fit_transform(clean_words_str)\n",
    "\n",
    "tfidf_test = tfidf_vectorizer.transform(clean_test_words_str)\n"
   ]
  },
  {
   "cell_type": "code",
   "execution_count": 45,
   "id": "7174ddff",
   "metadata": {},
   "outputs": [],
   "source": [
    "X = tfidf.toarray()\n",
    "X_te = tfidf_test.toarray()"
   ]
  },
  {
   "cell_type": "code",
   "execution_count": 46,
   "id": "c7095cc2",
   "metadata": {},
   "outputs": [
    {
     "name": "stderr",
     "output_type": "stream",
     "text": [
      "/Library/Frameworks/Python.framework/Versions/3.8/lib/python3.8/site-packages/sklearn/model_selection/_validation.py:378: FitFailedWarning: \n",
      "50 fits failed out of a total of 700.\n",
      "The score on these train-test partitions for these parameters will be set to nan.\n",
      "If these failures are not expected, you can try to debug them by setting error_score='raise'.\n",
      "\n",
      "Below are more details about the failures:\n",
      "--------------------------------------------------------------------------------\n",
      "50 fits failed with the following error:\n",
      "Traceback (most recent call last):\n",
      "  File \"/Library/Frameworks/Python.framework/Versions/3.8/lib/python3.8/site-packages/sklearn/model_selection/_validation.py\", line 686, in _fit_and_score\n",
      "    estimator.fit(X_train, y_train, **fit_params)\n",
      "  File \"/Library/Frameworks/Python.framework/Versions/3.8/lib/python3.8/site-packages/sklearn/ensemble/_forest.py\", line 476, in fit\n",
      "    trees = Parallel(\n",
      "  File \"/Library/Frameworks/Python.framework/Versions/3.8/lib/python3.8/site-packages/joblib/parallel.py\", line 1085, in __call__\n",
      "    if self.dispatch_one_batch(iterator):\n",
      "  File \"/Library/Frameworks/Python.framework/Versions/3.8/lib/python3.8/site-packages/joblib/parallel.py\", line 901, in dispatch_one_batch\n",
      "    self._dispatch(tasks)\n",
      "  File \"/Library/Frameworks/Python.framework/Versions/3.8/lib/python3.8/site-packages/joblib/parallel.py\", line 819, in _dispatch\n",
      "    job = self._backend.apply_async(batch, callback=cb)\n",
      "  File \"/Library/Frameworks/Python.framework/Versions/3.8/lib/python3.8/site-packages/joblib/_parallel_backends.py\", line 208, in apply_async\n",
      "    result = ImmediateResult(func)\n",
      "  File \"/Library/Frameworks/Python.framework/Versions/3.8/lib/python3.8/site-packages/joblib/_parallel_backends.py\", line 597, in __init__\n",
      "    self.results = batch()\n",
      "  File \"/Library/Frameworks/Python.framework/Versions/3.8/lib/python3.8/site-packages/joblib/parallel.py\", line 288, in __call__\n",
      "    return [func(*args, **kwargs)\n",
      "  File \"/Library/Frameworks/Python.framework/Versions/3.8/lib/python3.8/site-packages/joblib/parallel.py\", line 288, in <listcomp>\n",
      "    return [func(*args, **kwargs)\n",
      "  File \"/Library/Frameworks/Python.framework/Versions/3.8/lib/python3.8/site-packages/sklearn/utils/fixes.py\", line 117, in __call__\n",
      "    return self.function(*args, **kwargs)\n",
      "  File \"/Library/Frameworks/Python.framework/Versions/3.8/lib/python3.8/site-packages/sklearn/ensemble/_forest.py\", line 189, in _parallel_build_trees\n",
      "    tree.fit(X, y, sample_weight=curr_sample_weight, check_input=False)\n",
      "  File \"/Library/Frameworks/Python.framework/Versions/3.8/lib/python3.8/site-packages/sklearn/tree/_classes.py\", line 969, in fit\n",
      "    super().fit(\n",
      "  File \"/Library/Frameworks/Python.framework/Versions/3.8/lib/python3.8/site-packages/sklearn/tree/_classes.py\", line 325, in fit\n",
      "    check_scalar(\n",
      "  File \"/Library/Frameworks/Python.framework/Versions/3.8/lib/python3.8/site-packages/sklearn/utils/validation.py\", line 1480, in check_scalar\n",
      "    raise ValueError(\n",
      "ValueError: max_features == 0, must be >= 1.\n",
      "\n",
      "  warnings.warn(some_fits_failed_message, FitFailedWarning)\n",
      "/Library/Frameworks/Python.framework/Versions/3.8/lib/python3.8/site-packages/sklearn/model_selection/_search.py:953: UserWarning: One or more of the test scores are non-finite: [       nan 0.53127127 0.53127127 0.53127127 0.53127127 0.53127127\n",
      " 0.53127127 0.53127127 0.53127127 0.53127127 0.53127127 0.53127127\n",
      " 0.53127127 0.53127127        nan 0.53127127 0.53127127 0.53127127\n",
      " 0.53127127 0.53127127 0.53127127 0.53127127 0.53127127 0.53127127\n",
      " 0.53127127 0.53127127 0.53127127 0.53127127        nan 0.53127127\n",
      " 0.53127127 0.53127127 0.53127127 0.53127127 0.53127127 0.53127127\n",
      " 0.53127127 0.53127127 0.53127127 0.53127127 0.53127127 0.53127127\n",
      "        nan 0.53127127 0.53127127 0.53127127 0.53127127 0.53127127\n",
      " 0.53127127 0.53127127 0.53127127 0.53127127 0.53127127 0.53127127\n",
      " 0.53127127 0.53127127        nan 0.53127127 0.53127127 0.53127127\n",
      " 0.53127127 0.53127127 0.53127127 0.53127127 0.53127127 0.53127127\n",
      " 0.53127127 0.53127127 0.53127127 0.53127127]\n",
      "  warnings.warn(\n"
     ]
    },
    {
     "name": "stdout",
     "output_type": "stream",
     "text": [
      "{'max_depth': 10, 'max_features': 1}\n"
     ]
    }
   ],
   "source": [
    "from sklearn.model_selection import GridSearchCV\n",
    "from sklearn.ensemble import RandomForestClassifier\n",
    "# Create the parameter grid based on the results of random search \n",
    "param_grid = [{'max_depth': list(range(10, 15)), 'max_features': list(range(0,14))}]\n",
    "# Create a based model\n",
    "rf = RandomForestClassifier()\n",
    "# Instantiate the grid search model\n",
    "clf = GridSearchCV(estimator = rf, param_grid = param_grid, cv = 10, scoring = 'accuracy')\n",
    "\n",
    "clf.fit(X, y_train)\n",
    "print(clf.best_params_)\n"
   ]
  },
  {
   "cell_type": "code",
   "execution_count": 52,
   "id": "9318d354",
   "metadata": {},
   "outputs": [
    {
     "name": "stderr",
     "output_type": "stream",
     "text": [
      "/Library/Frameworks/Python.framework/Versions/3.8/lib/python3.8/site-packages/sklearn/metrics/_classification.py:1334: UndefinedMetricWarning: Precision and F-score are ill-defined and being set to 0.0 in labels with no predicted samples. Use `zero_division` parameter to control this behavior.\n",
      "  _warn_prf(average, modifier, msg_start, len(result))\n",
      "/Library/Frameworks/Python.framework/Versions/3.8/lib/python3.8/site-packages/sklearn/metrics/_classification.py:1334: UndefinedMetricWarning: Precision and F-score are ill-defined and being set to 0.0 in labels with no predicted samples. Use `zero_division` parameter to control this behavior.\n",
      "  _warn_prf(average, modifier, msg_start, len(result))\n",
      "/Library/Frameworks/Python.framework/Versions/3.8/lib/python3.8/site-packages/sklearn/metrics/_classification.py:1334: UndefinedMetricWarning: Precision and F-score are ill-defined and being set to 0.0 in labels with no predicted samples. Use `zero_division` parameter to control this behavior.\n",
      "  _warn_prf(average, modifier, msg_start, len(result))\n"
     ]
    },
    {
     "name": "stdout",
     "output_type": "stream",
     "text": [
      "              precision    recall  f1-score   support\n",
      "\n",
      "           0       0.00      0.00      0.00      5817\n",
      "           1       0.53      1.00      0.69     15613\n",
      "           2       0.00      0.00      0.00      7958\n",
      "\n",
      "    accuracy                           0.53     29388\n",
      "   macro avg       0.18      0.33      0.23     29388\n",
      "weighted avg       0.28      0.53      0.37     29388\n",
      "\n"
     ]
    },
    {
     "data": {
      "text/plain": [
       "0.5312712671838846"
      ]
     },
     "execution_count": 52,
     "metadata": {},
     "output_type": "execute_result"
    }
   ],
   "source": [
    "from sklearn.metrics import classification_report, confusion_matrix, accuracy_score\n",
    "from sklearn.model_selection import cross_val_score\n",
    "\n",
    "clf = RandomForestClassifier(max_depth = 10, max_features= 3)\n",
    "clf.fit(X, y_train)\n",
    "Y_pred = clf.predict(X_te) \n",
    "\n",
    "confusion_matrix(y_test,Y_pred) \n",
    "print(classification_report(y_test,Y_pred))\n",
    "\n",
    "acc = cross_val_score(clf, X,y_train,scoring=\"accuracy\", cv=10)\n",
    "\n",
    "accuracy_score(y_test, Y_pred)"
   ]
  },
  {
   "cell_type": "code",
   "execution_count": 53,
   "id": "600ed35f",
   "metadata": {},
   "outputs": [
    {
     "name": "stdout",
     "output_type": "stream",
     "text": [
      "[0.53130316 0.53130316 0.53126329 0.53126329 0.53126329 0.53126329\n",
      " 0.53126329 0.53126329 0.53126329 0.53126329]\n"
     ]
    }
   ],
   "source": [
    "print(acc)"
   ]
  },
  {
   "cell_type": "code",
   "execution_count": null,
   "id": "cc2c6b9f",
   "metadata": {},
   "outputs": [],
   "source": []
  }
 ],
 "metadata": {
  "kernelspec": {
   "display_name": "Python 3 (ipykernel)",
   "language": "python",
   "name": "python3"
  },
  "language_info": {
   "codemirror_mode": {
    "name": "ipython",
    "version": 3
   },
   "file_extension": ".py",
   "mimetype": "text/x-python",
   "name": "python",
   "nbconvert_exporter": "python",
   "pygments_lexer": "ipython3",
   "version": "3.9.12"
  }
 },
 "nbformat": 4,
 "nbformat_minor": 5
}
